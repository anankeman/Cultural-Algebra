{
 "cells": [
  {
   "cell_type": "markdown",
   "metadata": {},
   "source": [
    "# Finding the (math) cultural similarity"
   ]
  },
  {
   "cell_type": "markdown",
   "metadata": {},
   "source": [
    "When someone thinks about Why humans behave as we do, one of the most common answers is \"because of culture\". And very often that is the end of the issue. But if one wants to go deeper, you better ask to an ethnologist or read an Ethnology book, because Ethnology is the Social Science that has be trying to go deeper on cultural  problems.\n",
    "\n",
    "Ethnologic work tends to be a really hard proccess to sistematize large number of data across multiples research sources. Very heterogenouous sources actually, about complex aspect of human activity that we tend to call 'culture'.\n",
    "\n",
    "Culture is...a polisemic word, which means it has many meanings, as someone has put (Kuper, 1999), culture is battle of meaning. But culture definition is another story. The most important thing that we need to know is that culture is in the realm of meaning and behaviour. So, Ethnology have being using mainly qualitative methodologies to explore it.\n",
    "\n",
    "Qualitative is often viewed as non-numerical, more related to narratives, opinions, textual and unstructured data. Despite qualitative doesn't involve numbers, it doesn't mean doesn't support mathematical approach. Actually, many Qualitative technics as classification and codification are based on logic and set theory. Many are task to build networks between people, concepts or genalogic studies, which are all related to graph theory.\n",
    "\n",
    "As an Anthopologist I am very familiar and I handle many of these techniques with expertice, but I am also a Data Scientist and I can handle many quantitative and computational techniques. Is from this point of view that I want to apply some \"digital humanities\" approach to a very old problem in Ethnologic field. I like to thing that we could call this approach a mixed method between quantitative and cualitative.\n",
    "\n",
    "Today I am going to experiment with this. I will use one of the most classic ethnologic datasets (Murdock Ethnographic Atlas) to compare similarity among cultures. Something that in other times would require a very expert judgement about many aspects of hundreds of cultural groups.\n",
    "\n",
    "To do so, I will transform each cultural group into a multidimensional vector (Cultural Algebra!) then I will be able to calculate Cosine distance (yes, I will use some geometry and numeric degrees!, god bless us all). Shorter the distance between this abstract vectors, higher the cultural similarity.\n",
    "\n",
    "The Ethnographic Atlas dataset (ea) contains information about cultural 1291 groups and 94 features, including economic, political, religious, kindship aspect of its social life, all aspect that are part of a board definition of culture.\n",
    "\n",
    "One could always find many arguments about Why this approach is incomplete, limited or simplistic, but is on hand and no one has done it before. Worth trying and understand how much incomplete, limited, simplistic (or useful) could be.\n",
    "\n",
    "Enough talking, lets work.\n",
    "\n",
    "\n",
    "#### Load dataset\n",
    "\n",
    "Dataset has 5 different tables. I need to combine some of its aspect to organice a single table with the features I need to perform calculations."
   ]
  },
  {
   "cell_type": "code",
   "execution_count": 1,
   "metadata": {},
   "outputs": [],
   "source": [
    "import pandas as pd\n",
    "import numpy as np\n",
    "import matplotlib.pyplot as plt\n",
    "%matplotlib inline"
   ]
  },
  {
   "cell_type": "code",
   "execution_count": 2,
   "metadata": {},
   "outputs": [],
   "source": [
    "ea=pd.read_csv(\"data.csv\")\n",
    "soc=pd.read_csv(\"societies.csv\")\n",
    "var=pd.read_csv(\"variables.csv\")\n",
    "#societies_mapping=pd.read_csv(\"societies_mapping.csv\")\n",
    "codes=pd.read_csv(\"codes.csv\")"
   ]
  },
  {
   "cell_type": "markdown",
   "metadata": {},
   "source": [
    "### Explore dataset and its relations"
   ]
  },
  {
   "cell_type": "code",
   "execution_count": 3,
   "metadata": {},
   "outputs": [
    {
     "data": {
      "text/html": [
       "<div>\n",
       "<style scoped>\n",
       "    .dataframe tbody tr th:only-of-type {\n",
       "        vertical-align: middle;\n",
       "    }\n",
       "\n",
       "    .dataframe tbody tr th {\n",
       "        vertical-align: top;\n",
       "    }\n",
       "\n",
       "    .dataframe thead th {\n",
       "        text-align: right;\n",
       "    }\n",
       "</style>\n",
       "<table border=\"1\" class=\"dataframe\">\n",
       "  <thead>\n",
       "    <tr style=\"text-align: right;\">\n",
       "      <th></th>\n",
       "      <th>soc_id</th>\n",
       "      <th>sub_case</th>\n",
       "      <th>year</th>\n",
       "      <th>var_id</th>\n",
       "      <th>code</th>\n",
       "      <th>comment</th>\n",
       "      <th>references</th>\n",
       "      <th>source_coded_data</th>\n",
       "      <th>admin_comment</th>\n",
       "    </tr>\n",
       "  </thead>\n",
       "  <tbody>\n",
       "    <tr>\n",
       "      <th>0</th>\n",
       "      <td>Aa1</td>\n",
       "      <td>Nyai Nyae region</td>\n",
       "      <td>1950.0</td>\n",
       "      <td>EA001</td>\n",
       "      <td>8.0</td>\n",
       "      <td>NaN</td>\n",
       "      <td>biesele1972; biesele1975; biesele1976; draper1...</td>\n",
       "      <td>EthnographicAtlas_1967_p62</td>\n",
       "      <td>NaN</td>\n",
       "    </tr>\n",
       "    <tr>\n",
       "      <th>1</th>\n",
       "      <td>Aa2</td>\n",
       "      <td>with special reference to Central Dorobo</td>\n",
       "      <td>1920.0</td>\n",
       "      <td>EA001</td>\n",
       "      <td>4.0</td>\n",
       "      <td>NaN</td>\n",
       "      <td>huntingford1929; huntingford1942; huntingford1...</td>\n",
       "      <td>EthnographicAtlas_1967_p62</td>\n",
       "      <td>NaN</td>\n",
       "    </tr>\n",
       "    <tr>\n",
       "      <th>2</th>\n",
       "      <td>Aa3</td>\n",
       "      <td>Gei/Khauan tribe</td>\n",
       "      <td>1840.0</td>\n",
       "      <td>EA001</td>\n",
       "      <td>1.0</td>\n",
       "      <td>NaN</td>\n",
       "      <td>hoernl1918; hoernl1925; kohler1970; murdock193...</td>\n",
       "      <td>EthnographicAtlas_1967_p62</td>\n",
       "      <td>NaN</td>\n",
       "    </tr>\n",
       "    <tr>\n",
       "      <th>3</th>\n",
       "      <td>Aa4</td>\n",
       "      <td>NaN</td>\n",
       "      <td>1920.0</td>\n",
       "      <td>EA001</td>\n",
       "      <td>4.0</td>\n",
       "      <td>NaN</td>\n",
       "      <td>lebzelter1934; schmidt1930; vedder1923</td>\n",
       "      <td>Ethnology_Vol1_No3_Jul_1962</td>\n",
       "      <td>NaN</td>\n",
       "    </tr>\n",
       "    <tr>\n",
       "      <th>4</th>\n",
       "      <td>Aa5</td>\n",
       "      <td>Epulu net-hunters, Ituri forest</td>\n",
       "      <td>1930.0</td>\n",
       "      <td>EA001</td>\n",
       "      <td>3.0</td>\n",
       "      <td>NaN</td>\n",
       "      <td>deleeuwe1966; hart1978; putnam1948; turnbull19...</td>\n",
       "      <td>EthnographicAtlas_1967_p62</td>\n",
       "      <td>NaN</td>\n",
       "    </tr>\n",
       "  </tbody>\n",
       "</table>\n",
       "</div>"
      ],
      "text/plain": [
       "  soc_id                                  sub_case    year var_id  code  \\\n",
       "0    Aa1                          Nyai Nyae region  1950.0  EA001   8.0   \n",
       "1    Aa2  with special reference to Central Dorobo  1920.0  EA001   4.0   \n",
       "2    Aa3                          Gei/Khauan tribe  1840.0  EA001   1.0   \n",
       "3    Aa4                                       NaN  1920.0  EA001   4.0   \n",
       "4    Aa5           Epulu net-hunters, Ituri forest  1930.0  EA001   3.0   \n",
       "\n",
       "  comment                                         references  \\\n",
       "0     NaN  biesele1972; biesele1975; biesele1976; draper1...   \n",
       "1     NaN  huntingford1929; huntingford1942; huntingford1...   \n",
       "2     NaN  hoernl1918; hoernl1925; kohler1970; murdock193...   \n",
       "3     NaN             lebzelter1934; schmidt1930; vedder1923   \n",
       "4     NaN  deleeuwe1966; hart1978; putnam1948; turnbull19...   \n",
       "\n",
       "             source_coded_data admin_comment  \n",
       "0   EthnographicAtlas_1967_p62           NaN  \n",
       "1   EthnographicAtlas_1967_p62           NaN  \n",
       "2   EthnographicAtlas_1967_p62           NaN  \n",
       "3  Ethnology_Vol1_No3_Jul_1962           NaN  \n",
       "4   EthnographicAtlas_1967_p62           NaN  "
      ]
     },
     "execution_count": 3,
     "metadata": {},
     "output_type": "execute_result"
    }
   ],
   "source": [
    "ea.head()"
   ]
  },
  {
   "cell_type": "code",
   "execution_count": 4,
   "metadata": {},
   "outputs": [
    {
     "data": {
      "text/html": [
       "<div>\n",
       "<style scoped>\n",
       "    .dataframe tbody tr th:only-of-type {\n",
       "        vertical-align: middle;\n",
       "    }\n",
       "\n",
       "    .dataframe tbody tr th {\n",
       "        vertical-align: top;\n",
       "    }\n",
       "\n",
       "    .dataframe thead th {\n",
       "        text-align: right;\n",
       "    }\n",
       "</style>\n",
       "<table border=\"1\" class=\"dataframe\">\n",
       "  <thead>\n",
       "    <tr style=\"text-align: right;\">\n",
       "      <th></th>\n",
       "      <th>id</th>\n",
       "      <th>category</th>\n",
       "      <th>title</th>\n",
       "      <th>definition</th>\n",
       "      <th>type</th>\n",
       "      <th>units</th>\n",
       "      <th>source</th>\n",
       "      <th>changes</th>\n",
       "      <th>notes</th>\n",
       "    </tr>\n",
       "  </thead>\n",
       "  <tbody>\n",
       "    <tr>\n",
       "      <th>0</th>\n",
       "      <td>EA001</td>\n",
       "      <td>Subsistence, Economy</td>\n",
       "      <td>Subsistence economy: gathering</td>\n",
       "      <td>Dependence on the gathering of wild plants and...</td>\n",
       "      <td>Ordinal</td>\n",
       "      <td>NaN</td>\n",
       "      <td>Murdock (1962-1971); Gray (1999)</td>\n",
       "      <td>NaN</td>\n",
       "      <td>NaN</td>\n",
       "    </tr>\n",
       "    <tr>\n",
       "      <th>1</th>\n",
       "      <td>EA002</td>\n",
       "      <td>Subsistence, Economy</td>\n",
       "      <td>Subsistence economy: hunting</td>\n",
       "      <td>Dependence on hunting, including trapping and ...</td>\n",
       "      <td>Ordinal</td>\n",
       "      <td>NaN</td>\n",
       "      <td>Murdock (1962-1971); Gray (1999)</td>\n",
       "      <td>NaN</td>\n",
       "      <td>NaN</td>\n",
       "    </tr>\n",
       "    <tr>\n",
       "      <th>2</th>\n",
       "      <td>EA003</td>\n",
       "      <td>Subsistence, Economy</td>\n",
       "      <td>Subsistence economy: fishing</td>\n",
       "      <td>Dependence on fishing, including shellfishing ...</td>\n",
       "      <td>Ordinal</td>\n",
       "      <td>NaN</td>\n",
       "      <td>Murdock (1962-1971); Gray (1999)</td>\n",
       "      <td>NaN</td>\n",
       "      <td>NaN</td>\n",
       "    </tr>\n",
       "    <tr>\n",
       "      <th>3</th>\n",
       "      <td>EA004</td>\n",
       "      <td>Subsistence, Economy</td>\n",
       "      <td>Subsistence economy: animal husbandry</td>\n",
       "      <td>Dependence on animal husbandry, relative to ot...</td>\n",
       "      <td>Ordinal</td>\n",
       "      <td>NaN</td>\n",
       "      <td>Murdock (1962-1971); Gray (1999)</td>\n",
       "      <td>NaN</td>\n",
       "      <td>NaN</td>\n",
       "    </tr>\n",
       "    <tr>\n",
       "      <th>4</th>\n",
       "      <td>EA005</td>\n",
       "      <td>Subsistence, Economy</td>\n",
       "      <td>Subsistence economy: agriculture</td>\n",
       "      <td>Dependence on agriculture, relative to other s...</td>\n",
       "      <td>Ordinal</td>\n",
       "      <td>NaN</td>\n",
       "      <td>Murdock (1962-1971); Gray (1999)</td>\n",
       "      <td>NaN</td>\n",
       "      <td>NaN</td>\n",
       "    </tr>\n",
       "  </tbody>\n",
       "</table>\n",
       "</div>"
      ],
      "text/plain": [
       "      id              category                                  title  \\\n",
       "0  EA001  Subsistence, Economy         Subsistence economy: gathering   \n",
       "1  EA002  Subsistence, Economy           Subsistence economy: hunting   \n",
       "2  EA003  Subsistence, Economy           Subsistence economy: fishing   \n",
       "3  EA004  Subsistence, Economy  Subsistence economy: animal husbandry   \n",
       "4  EA005  Subsistence, Economy       Subsistence economy: agriculture   \n",
       "\n",
       "                                          definition     type  units  \\\n",
       "0  Dependence on the gathering of wild plants and...  Ordinal    NaN   \n",
       "1  Dependence on hunting, including trapping and ...  Ordinal    NaN   \n",
       "2  Dependence on fishing, including shellfishing ...  Ordinal    NaN   \n",
       "3  Dependence on animal husbandry, relative to ot...  Ordinal    NaN   \n",
       "4  Dependence on agriculture, relative to other s...  Ordinal    NaN   \n",
       "\n",
       "                             source changes notes  \n",
       "0  Murdock (1962-1971); Gray (1999)     NaN   NaN  \n",
       "1  Murdock (1962-1971); Gray (1999)     NaN   NaN  \n",
       "2  Murdock (1962-1971); Gray (1999)     NaN   NaN  \n",
       "3  Murdock (1962-1971); Gray (1999)     NaN   NaN  \n",
       "4  Murdock (1962-1971); Gray (1999)     NaN   NaN  "
      ]
     },
     "execution_count": 4,
     "metadata": {},
     "output_type": "execute_result"
    }
   ],
   "source": [
    "var.head()"
   ]
  },
  {
   "cell_type": "code",
   "execution_count": 5,
   "metadata": {},
   "outputs": [
    {
     "data": {
      "text/html": [
       "<div>\n",
       "<style scoped>\n",
       "    .dataframe tbody tr th:only-of-type {\n",
       "        vertical-align: middle;\n",
       "    }\n",
       "\n",
       "    .dataframe tbody tr th {\n",
       "        vertical-align: top;\n",
       "    }\n",
       "\n",
       "    .dataframe thead th {\n",
       "        text-align: right;\n",
       "    }\n",
       "</style>\n",
       "<table border=\"1\" class=\"dataframe\">\n",
       "  <thead>\n",
       "    <tr style=\"text-align: right;\">\n",
       "      <th></th>\n",
       "      <th>id</th>\n",
       "      <th>xd_id</th>\n",
       "      <th>pref_name_for_society</th>\n",
       "      <th>glottocode</th>\n",
       "      <th>ORIG_name_and_ID_in_this_dataset</th>\n",
       "      <th>alt_names_by_society</th>\n",
       "      <th>main_focal_year</th>\n",
       "      <th>HRAF_name_ID</th>\n",
       "      <th>HRAF_link</th>\n",
       "      <th>origLat</th>\n",
       "      <th>origLong</th>\n",
       "      <th>Lat</th>\n",
       "      <th>Long</th>\n",
       "      <th>Comment</th>\n",
       "      <th>glottocode_comment</th>\n",
       "    </tr>\n",
       "  </thead>\n",
       "  <tbody>\n",
       "    <tr>\n",
       "      <th>0</th>\n",
       "      <td>Aa1</td>\n",
       "      <td>xd1</td>\n",
       "      <td>!Kung</td>\n",
       "      <td>juho1239</td>\n",
       "      <td>Kung (Aa1)</td>\n",
       "      <td>Kung Bushmen, !Kung (Was Nyae), Was Nyae</td>\n",
       "      <td>1950.0</td>\n",
       "      <td>San (FX10)</td>\n",
       "      <td>http://ehrafworldcultures.yale.edu/collection?...</td>\n",
       "      <td>-20.0</td>\n",
       "      <td>21.0</td>\n",
       "      <td>-20.0</td>\n",
       "      <td>21.0</td>\n",
       "      <td>Original</td>\n",
       "      <td>NaN</td>\n",
       "    </tr>\n",
       "    <tr>\n",
       "      <th>1</th>\n",
       "      <td>Ab1</td>\n",
       "      <td>xd10</td>\n",
       "      <td>Herero</td>\n",
       "      <td>here1253</td>\n",
       "      <td>Herero (Ab1)</td>\n",
       "      <td>Damara, Ovaherero</td>\n",
       "      <td>1900.0</td>\n",
       "      <td>NaN</td>\n",
       "      <td>NaN</td>\n",
       "      <td>-21.0</td>\n",
       "      <td>16.0</td>\n",
       "      <td>-21.0</td>\n",
       "      <td>16.0</td>\n",
       "      <td>Original</td>\n",
       "      <td>NaN</td>\n",
       "    </tr>\n",
       "    <tr>\n",
       "      <th>2</th>\n",
       "      <td>Ad31</td>\n",
       "      <td>xd100</td>\n",
       "      <td>Duruma</td>\n",
       "      <td>duru1249</td>\n",
       "      <td>Duruma (Ad31)</td>\n",
       "      <td>Waduruma</td>\n",
       "      <td>1910.0</td>\n",
       "      <td>NaN</td>\n",
       "      <td>NaN</td>\n",
       "      <td>-4.0</td>\n",
       "      <td>39.0</td>\n",
       "      <td>-4.0</td>\n",
       "      <td>39.0</td>\n",
       "      <td>Original</td>\n",
       "      <td>NaN</td>\n",
       "    </tr>\n",
       "    <tr>\n",
       "      <th>3</th>\n",
       "      <td>Ad32</td>\n",
       "      <td>xd101</td>\n",
       "      <td>Giriama</td>\n",
       "      <td>giry1241</td>\n",
       "      <td>Giriama (Ad32)</td>\n",
       "      <td>Kiriama, Wagiryama</td>\n",
       "      <td>1900.0</td>\n",
       "      <td>NaN</td>\n",
       "      <td>NaN</td>\n",
       "      <td>-3.0</td>\n",
       "      <td>40.0</td>\n",
       "      <td>-3.0</td>\n",
       "      <td>40.0</td>\n",
       "      <td>Original</td>\n",
       "      <td>NaN</td>\n",
       "    </tr>\n",
       "    <tr>\n",
       "      <th>4</th>\n",
       "      <td>Ad33</td>\n",
       "      <td>xd102</td>\n",
       "      <td>Pokomo</td>\n",
       "      <td>poko1261</td>\n",
       "      <td>Pokomo (Ad33)</td>\n",
       "      <td>Wapokomo</td>\n",
       "      <td>1900.0</td>\n",
       "      <td>NaN</td>\n",
       "      <td>NaN</td>\n",
       "      <td>-1.0</td>\n",
       "      <td>40.0</td>\n",
       "      <td>-1.0</td>\n",
       "      <td>40.0</td>\n",
       "      <td>Original</td>\n",
       "      <td>NaN</td>\n",
       "    </tr>\n",
       "  </tbody>\n",
       "</table>\n",
       "</div>"
      ],
      "text/plain": [
       "     id  xd_id pref_name_for_society glottocode  \\\n",
       "0   Aa1    xd1                 !Kung   juho1239   \n",
       "1   Ab1   xd10                Herero   here1253   \n",
       "2  Ad31  xd100                Duruma   duru1249   \n",
       "3  Ad32  xd101               Giriama   giry1241   \n",
       "4  Ad33  xd102                Pokomo   poko1261   \n",
       "\n",
       "  ORIG_name_and_ID_in_this_dataset                      alt_names_by_society  \\\n",
       "0                       Kung (Aa1)  Kung Bushmen, !Kung (Was Nyae), Was Nyae   \n",
       "1                     Herero (Ab1)                         Damara, Ovaherero   \n",
       "2                    Duruma (Ad31)                                  Waduruma   \n",
       "3                   Giriama (Ad32)                        Kiriama, Wagiryama   \n",
       "4                    Pokomo (Ad33)                                  Wapokomo   \n",
       "\n",
       "   main_focal_year HRAF_name_ID  \\\n",
       "0           1950.0   San (FX10)   \n",
       "1           1900.0          NaN   \n",
       "2           1910.0          NaN   \n",
       "3           1900.0          NaN   \n",
       "4           1900.0          NaN   \n",
       "\n",
       "                                           HRAF_link  origLat  origLong   Lat  \\\n",
       "0  http://ehrafworldcultures.yale.edu/collection?...    -20.0      21.0 -20.0   \n",
       "1                                                NaN    -21.0      16.0 -21.0   \n",
       "2                                                NaN     -4.0      39.0  -4.0   \n",
       "3                                                NaN     -3.0      40.0  -3.0   \n",
       "4                                                NaN     -1.0      40.0  -1.0   \n",
       "\n",
       "   Long   Comment glottocode_comment  \n",
       "0  21.0  Original                NaN  \n",
       "1  16.0  Original                NaN  \n",
       "2  39.0  Original                NaN  \n",
       "3  40.0  Original                NaN  \n",
       "4  40.0  Original                NaN  "
      ]
     },
     "execution_count": 5,
     "metadata": {},
     "output_type": "execute_result"
    }
   ],
   "source": [
    "soc.head()"
   ]
  },
  {
   "cell_type": "markdown",
   "metadata": {},
   "source": [
    "### Aspect of culture measured."
   ]
  },
  {
   "cell_type": "code",
   "execution_count": 6,
   "metadata": {},
   "outputs": [
    {
     "data": {
      "text/plain": [
       "{'Class',\n",
       " 'Community organization',\n",
       " 'Ecology',\n",
       " 'Economy',\n",
       " 'Games',\n",
       " 'Gender',\n",
       " 'Housing',\n",
       " 'Kinship',\n",
       " 'Labour',\n",
       " 'Leadership',\n",
       " 'Marriage',\n",
       " 'Politics',\n",
       " 'Population',\n",
       " 'Property',\n",
       " 'Ritual',\n",
       " 'Settlement',\n",
       " 'Subsistence',\n",
       " 'Wealth Transactions'}"
      ]
     },
     "execution_count": 6,
     "metadata": {},
     "output_type": "execute_result"
    }
   ],
   "source": [
    "set([item for lista in var.category.str.split(\", \").tolist() for item in lista])"
   ]
  },
  {
   "cell_type": "code",
   "execution_count": 7,
   "metadata": {},
   "outputs": [
    {
     "data": {
      "text/plain": [
       "Counter({'Class': 6,\n",
       "         'Community organization': 16,\n",
       "         'Ecology': 6,\n",
       "         'Economy': 44,\n",
       "         'Games': 1,\n",
       "         'Gender': 15,\n",
       "         'Housing': 11,\n",
       "         'Kinship': 25,\n",
       "         'Labour': 24,\n",
       "         'Leadership': 4,\n",
       "         'Marriage': 19,\n",
       "         'Politics': 12,\n",
       "         'Population': 2,\n",
       "         'Property': 4,\n",
       "         'Ritual': 7,\n",
       "         'Settlement': 2,\n",
       "         'Subsistence': 11,\n",
       "         'Wealth Transactions': 6})"
      ]
     },
     "execution_count": 7,
     "metadata": {},
     "output_type": "execute_result"
    }
   ],
   "source": [
    "from collections import Counter\n",
    "var.category.str.split(\", \").map(Counter).sum()#.value_counts()"
   ]
  },
  {
   "cell_type": "code",
   "execution_count": 8,
   "metadata": {},
   "outputs": [
    {
     "data": {
      "text/plain": [
       "Categorical    84\n",
       "Ordinal         9\n",
       "Continuous      1\n",
       "Name: type, dtype: int64"
      ]
     },
     "execution_count": 8,
     "metadata": {},
     "output_type": "execute_result"
    }
   ],
   "source": [
    "var.type.value_counts()"
   ]
  },
  {
   "cell_type": "markdown",
   "metadata": {},
   "source": [
    " "
   ]
  },
  {
   "cell_type": "markdown",
   "metadata": {},
   "source": [
    "There is three kind of features. It I should make a different pre-proccesing pipeline for each kind.\n",
    " \n",
    " "
   ]
  },
  {
   "cell_type": "code",
   "execution_count": 8,
   "metadata": {},
   "outputs": [
    {
     "data": {
      "text/html": [
       "<div>\n",
       "<style scoped>\n",
       "    .dataframe tbody tr th:only-of-type {\n",
       "        vertical-align: middle;\n",
       "    }\n",
       "\n",
       "    .dataframe tbody tr th {\n",
       "        vertical-align: top;\n",
       "    }\n",
       "\n",
       "    .dataframe thead th {\n",
       "        text-align: right;\n",
       "    }\n",
       "</style>\n",
       "<table border=\"1\" class=\"dataframe\">\n",
       "  <thead>\n",
       "    <tr style=\"text-align: right;\">\n",
       "      <th></th>\n",
       "      <th>id</th>\n",
       "      <th>category</th>\n",
       "      <th>title</th>\n",
       "      <th>definition</th>\n",
       "      <th>type</th>\n",
       "      <th>units</th>\n",
       "      <th>source</th>\n",
       "      <th>changes</th>\n",
       "      <th>notes</th>\n",
       "    </tr>\n",
       "  </thead>\n",
       "  <tbody>\n",
       "    <tr>\n",
       "      <th>93</th>\n",
       "      <td>EA202</td>\n",
       "      <td>Population</td>\n",
       "      <td>Population size</td>\n",
       "      <td>Population of ethnic group as a whole, unless ...</td>\n",
       "      <td>Continuous</td>\n",
       "      <td>NaN</td>\n",
       "      <td>Murdock (1962-1971); Ember (1992)</td>\n",
       "      <td>NaN</td>\n",
       "      <td>NaN</td>\n",
       "    </tr>\n",
       "  </tbody>\n",
       "</table>\n",
       "</div>"
      ],
      "text/plain": [
       "       id    category            title  \\\n",
       "93  EA202  Population  Population size   \n",
       "\n",
       "                                           definition        type  units  \\\n",
       "93  Population of ethnic group as a whole, unless ...  Continuous    NaN   \n",
       "\n",
       "                               source changes notes  \n",
       "93  Murdock (1962-1971); Ember (1992)     NaN   NaN  "
      ]
     },
     "execution_count": 8,
     "metadata": {},
     "output_type": "execute_result"
    }
   ],
   "source": [
    "var[var.type == 'Continuous'].head()"
   ]
  },
  {
   "cell_type": "code",
   "execution_count": 9,
   "metadata": {},
   "outputs": [
    {
     "data": {
      "text/html": [
       "<div>\n",
       "<style scoped>\n",
       "    .dataframe tbody tr th:only-of-type {\n",
       "        vertical-align: middle;\n",
       "    }\n",
       "\n",
       "    .dataframe tbody tr th {\n",
       "        vertical-align: top;\n",
       "    }\n",
       "\n",
       "    .dataframe thead th {\n",
       "        text-align: right;\n",
       "    }\n",
       "</style>\n",
       "<table border=\"1\" class=\"dataframe\">\n",
       "  <thead>\n",
       "    <tr style=\"text-align: right;\">\n",
       "      <th></th>\n",
       "      <th>soc_id</th>\n",
       "      <th>sub_case</th>\n",
       "      <th>year</th>\n",
       "      <th>var_id</th>\n",
       "      <th>code</th>\n",
       "      <th>comment</th>\n",
       "      <th>references</th>\n",
       "      <th>source_coded_data</th>\n",
       "      <th>admin_comment</th>\n",
       "    </tr>\n",
       "  </thead>\n",
       "  <tbody>\n",
       "    <tr>\n",
       "      <th>20656</th>\n",
       "      <td>Aa1</td>\n",
       "      <td>Nyai Nyae region</td>\n",
       "      <td>1953.0</td>\n",
       "      <td>EA202</td>\n",
       "      <td>3500.0</td>\n",
       "      <td>Of this total, 1,000 were located in the Nyae ...</td>\n",
       "      <td>NaN</td>\n",
       "      <td>Carol Ember's Concordance Database</td>\n",
       "      <td>NaN</td>\n",
       "    </tr>\n",
       "    <tr>\n",
       "      <th>20657</th>\n",
       "      <td>Aa2</td>\n",
       "      <td>with special reference to Central Dorobo</td>\n",
       "      <td>1925.0</td>\n",
       "      <td>EA202</td>\n",
       "      <td>1100.0</td>\n",
       "      <td>221 Central Dorobo in 1942</td>\n",
       "      <td>NaN</td>\n",
       "      <td>EA Bibliography</td>\n",
       "      <td>NaN</td>\n",
       "    </tr>\n",
       "    <tr>\n",
       "      <th>20658</th>\n",
       "      <td>Aa3</td>\n",
       "      <td>Gei/Khauan tribe</td>\n",
       "      <td>1876.0</td>\n",
       "      <td>EA202</td>\n",
       "      <td>2500.0</td>\n",
       "      <td>in 1876; See HRAF reference 4:7; note focal ye...</td>\n",
       "      <td>NaN</td>\n",
       "      <td>Carol Ember's Concordance Database</td>\n",
       "      <td>NaN</td>\n",
       "    </tr>\n",
       "    <tr>\n",
       "      <th>20659</th>\n",
       "      <td>Aa4</td>\n",
       "      <td>NaN</td>\n",
       "      <td>1946.0</td>\n",
       "      <td>EA202</td>\n",
       "      <td>29000.0</td>\n",
       "      <td>in 1946; note focal year for cultural data is ...</td>\n",
       "      <td>NaN</td>\n",
       "      <td>EA Bibliography</td>\n",
       "      <td>NaN</td>\n",
       "    </tr>\n",
       "    <tr>\n",
       "      <th>20660</th>\n",
       "      <td>Aa5</td>\n",
       "      <td>Epulu net-hunters, Ituri forest</td>\n",
       "      <td>1951.0</td>\n",
       "      <td>EA202</td>\n",
       "      <td>40000.0</td>\n",
       "      <td>in 1951; See HRAF reference 2:26; note focal y...</td>\n",
       "      <td>NaN</td>\n",
       "      <td>Carol Ember's Concordance Database</td>\n",
       "      <td>NaN</td>\n",
       "    </tr>\n",
       "  </tbody>\n",
       "</table>\n",
       "</div>"
      ],
      "text/plain": [
       "      soc_id                                  sub_case    year var_id  \\\n",
       "20656    Aa1                          Nyai Nyae region  1953.0  EA202   \n",
       "20657    Aa2  with special reference to Central Dorobo  1925.0  EA202   \n",
       "20658    Aa3                          Gei/Khauan tribe  1876.0  EA202   \n",
       "20659    Aa4                                       NaN  1946.0  EA202   \n",
       "20660    Aa5           Epulu net-hunters, Ituri forest  1951.0  EA202   \n",
       "\n",
       "          code                                            comment references  \\\n",
       "20656   3500.0  Of this total, 1,000 were located in the Nyae ...        NaN   \n",
       "20657   1100.0                         221 Central Dorobo in 1942        NaN   \n",
       "20658   2500.0  in 1876; See HRAF reference 4:7; note focal ye...        NaN   \n",
       "20659  29000.0  in 1946; note focal year for cultural data is ...        NaN   \n",
       "20660  40000.0  in 1951; See HRAF reference 2:26; note focal y...        NaN   \n",
       "\n",
       "                        source_coded_data admin_comment  \n",
       "20656  Carol Ember's Concordance Database           NaN  \n",
       "20657                     EA Bibliography           NaN  \n",
       "20658  Carol Ember's Concordance Database           NaN  \n",
       "20659                     EA Bibliography           NaN  \n",
       "20660  Carol Ember's Concordance Database           NaN  "
      ]
     },
     "execution_count": 9,
     "metadata": {},
     "output_type": "execute_result"
    }
   ],
   "source": [
    "ea[ea.var_id == \"EA202\"].head()"
   ]
  },
  {
   "cell_type": "code",
   "execution_count": 10,
   "metadata": {},
   "outputs": [
    {
     "data": {
      "text/html": [
       "<div>\n",
       "<style scoped>\n",
       "    .dataframe tbody tr th:only-of-type {\n",
       "        vertical-align: middle;\n",
       "    }\n",
       "\n",
       "    .dataframe tbody tr th {\n",
       "        vertical-align: top;\n",
       "    }\n",
       "\n",
       "    .dataframe thead th {\n",
       "        text-align: right;\n",
       "    }\n",
       "</style>\n",
       "<table border=\"1\" class=\"dataframe\">\n",
       "  <thead>\n",
       "    <tr style=\"text-align: right;\">\n",
       "      <th></th>\n",
       "      <th>id</th>\n",
       "      <th>category</th>\n",
       "      <th>title</th>\n",
       "      <th>definition</th>\n",
       "      <th>type</th>\n",
       "      <th>units</th>\n",
       "      <th>source</th>\n",
       "      <th>changes</th>\n",
       "      <th>notes</th>\n",
       "    </tr>\n",
       "  </thead>\n",
       "  <tbody>\n",
       "    <tr>\n",
       "      <th>5</th>\n",
       "      <td>EA006</td>\n",
       "      <td>Marriage, Kinship, Wealth Transactions, Economy</td>\n",
       "      <td>Transactions at marriage: prevailing type</td>\n",
       "      <td>Prevailing type of transfer or exchange at mar...</td>\n",
       "      <td>Categorical</td>\n",
       "      <td>NaN</td>\n",
       "      <td>Murdock (1962-1971); Gray (1999)</td>\n",
       "      <td>NaN</td>\n",
       "      <td>NaN</td>\n",
       "    </tr>\n",
       "    <tr>\n",
       "      <th>6</th>\n",
       "      <td>EA007</td>\n",
       "      <td>Marriage, Kinship, Wealth Transactions, Economy</td>\n",
       "      <td>Transactions at marriage: alternate type</td>\n",
       "      <td>Alternative types of transfer or exchange at m...</td>\n",
       "      <td>Categorical</td>\n",
       "      <td>NaN</td>\n",
       "      <td>Murdock (1962-1971); Gray (1999)</td>\n",
       "      <td>NaN</td>\n",
       "      <td>NaN</td>\n",
       "    </tr>\n",
       "    <tr>\n",
       "      <th>7</th>\n",
       "      <td>EA008</td>\n",
       "      <td>Marriage, Kinship</td>\n",
       "      <td>Domestic organization</td>\n",
       "      <td>The prevailing form of domestic or familial or...</td>\n",
       "      <td>Categorical</td>\n",
       "      <td>NaN</td>\n",
       "      <td>Murdock (1962-1971); Gray (1999)</td>\n",
       "      <td>NaN</td>\n",
       "      <td>NaN</td>\n",
       "    </tr>\n",
       "  </tbody>\n",
       "</table>\n",
       "</div>"
      ],
      "text/plain": [
       "      id                                         category  \\\n",
       "5  EA006  Marriage, Kinship, Wealth Transactions, Economy   \n",
       "6  EA007  Marriage, Kinship, Wealth Transactions, Economy   \n",
       "7  EA008                                Marriage, Kinship   \n",
       "\n",
       "                                       title  \\\n",
       "5  Transactions at marriage: prevailing type   \n",
       "6   Transactions at marriage: alternate type   \n",
       "7                      Domestic organization   \n",
       "\n",
       "                                          definition         type  units  \\\n",
       "5  Prevailing type of transfer or exchange at mar...  Categorical    NaN   \n",
       "6  Alternative types of transfer or exchange at m...  Categorical    NaN   \n",
       "7  The prevailing form of domestic or familial or...  Categorical    NaN   \n",
       "\n",
       "                             source changes notes  \n",
       "5  Murdock (1962-1971); Gray (1999)     NaN   NaN  \n",
       "6  Murdock (1962-1971); Gray (1999)     NaN   NaN  \n",
       "7  Murdock (1962-1971); Gray (1999)     NaN   NaN  "
      ]
     },
     "execution_count": 10,
     "metadata": {},
     "output_type": "execute_result"
    }
   ],
   "source": [
    "var[var.type == 'Categorical'].head(3)"
   ]
  },
  {
   "cell_type": "code",
   "execution_count": 11,
   "metadata": {},
   "outputs": [
    {
     "data": {
      "text/html": [
       "<div>\n",
       "<style scoped>\n",
       "    .dataframe tbody tr th:only-of-type {\n",
       "        vertical-align: middle;\n",
       "    }\n",
       "\n",
       "    .dataframe tbody tr th {\n",
       "        vertical-align: top;\n",
       "    }\n",
       "\n",
       "    .dataframe thead th {\n",
       "        text-align: right;\n",
       "    }\n",
       "</style>\n",
       "<table border=\"1\" class=\"dataframe\">\n",
       "  <thead>\n",
       "    <tr style=\"text-align: right;\">\n",
       "      <th></th>\n",
       "      <th>soc_id</th>\n",
       "      <th>sub_case</th>\n",
       "      <th>year</th>\n",
       "      <th>var_id</th>\n",
       "      <th>code</th>\n",
       "      <th>comment</th>\n",
       "      <th>references</th>\n",
       "      <th>source_coded_data</th>\n",
       "      <th>admin_comment</th>\n",
       "    </tr>\n",
       "  </thead>\n",
       "  <tbody>\n",
       "    <tr>\n",
       "      <th>90370</th>\n",
       "      <td>Aa1</td>\n",
       "      <td>Nyai Nyae region</td>\n",
       "      <td>1950.0</td>\n",
       "      <td>EA007</td>\n",
       "      <td>8.0</td>\n",
       "      <td>NaN</td>\n",
       "      <td>biesele1972; biesele1975; biesele1976; draper1...</td>\n",
       "      <td>EthnographicAtlas_1967_p62</td>\n",
       "      <td>NaN</td>\n",
       "    </tr>\n",
       "    <tr>\n",
       "      <th>90371</th>\n",
       "      <td>Aa2</td>\n",
       "      <td>with special reference to Central Dorobo</td>\n",
       "      <td>1920.0</td>\n",
       "      <td>EA007</td>\n",
       "      <td>8.0</td>\n",
       "      <td>NaN</td>\n",
       "      <td>huntingford1929; huntingford1942; huntingford1...</td>\n",
       "      <td>EthnographicAtlas_1967_p62</td>\n",
       "      <td>NaN</td>\n",
       "    </tr>\n",
       "    <tr>\n",
       "      <th>90372</th>\n",
       "      <td>Aa3</td>\n",
       "      <td>Gei/Khauan tribe</td>\n",
       "      <td>1840.0</td>\n",
       "      <td>EA007</td>\n",
       "      <td>1.0</td>\n",
       "      <td>NaN</td>\n",
       "      <td>hoernl1918; hoernl1925; kohler1970; murdock193...</td>\n",
       "      <td>EthnographicAtlas_1967_p62</td>\n",
       "      <td>NaN</td>\n",
       "    </tr>\n",
       "  </tbody>\n",
       "</table>\n",
       "</div>"
      ],
      "text/plain": [
       "      soc_id                                  sub_case    year var_id  code  \\\n",
       "90370    Aa1                          Nyai Nyae region  1950.0  EA007   8.0   \n",
       "90371    Aa2  with special reference to Central Dorobo  1920.0  EA007   8.0   \n",
       "90372    Aa3                          Gei/Khauan tribe  1840.0  EA007   1.0   \n",
       "\n",
       "      comment                                         references  \\\n",
       "90370     NaN  biesele1972; biesele1975; biesele1976; draper1...   \n",
       "90371     NaN  huntingford1929; huntingford1942; huntingford1...   \n",
       "90372     NaN  hoernl1918; hoernl1925; kohler1970; murdock193...   \n",
       "\n",
       "                source_coded_data admin_comment  \n",
       "90370  EthnographicAtlas_1967_p62           NaN  \n",
       "90371  EthnographicAtlas_1967_p62           NaN  \n",
       "90372  EthnographicAtlas_1967_p62           NaN  "
      ]
     },
     "execution_count": 11,
     "metadata": {},
     "output_type": "execute_result"
    }
   ],
   "source": [
    "ea[ea.var_id == \"EA007\"].head(3)"
   ]
  },
  {
   "cell_type": "code",
   "execution_count": 12,
   "metadata": {},
   "outputs": [
    {
     "data": {
      "text/plain": [
       "8.0    1036\n",
       "2.0     123\n",
       "3.0      31\n",
       "1.0      29\n",
       "7.0      28\n",
       "5.0      19\n",
       "6.0       6\n",
       "Name: code, dtype: int64"
      ]
     },
     "execution_count": 12,
     "metadata": {},
     "output_type": "execute_result"
    }
   ],
   "source": [
    "ea[ea.var_id == \"EA007\"].code.value_counts()"
   ]
  },
  {
   "cell_type": "code",
   "execution_count": 13,
   "metadata": {},
   "outputs": [
    {
     "data": {
      "text/html": [
       "<div>\n",
       "<style scoped>\n",
       "    .dataframe tbody tr th:only-of-type {\n",
       "        vertical-align: middle;\n",
       "    }\n",
       "\n",
       "    .dataframe tbody tr th {\n",
       "        vertical-align: top;\n",
       "    }\n",
       "\n",
       "    .dataframe thead th {\n",
       "        text-align: right;\n",
       "    }\n",
       "</style>\n",
       "<table border=\"1\" class=\"dataframe\">\n",
       "  <thead>\n",
       "    <tr style=\"text-align: right;\">\n",
       "      <th></th>\n",
       "      <th>id</th>\n",
       "      <th>category</th>\n",
       "      <th>title</th>\n",
       "      <th>definition</th>\n",
       "      <th>type</th>\n",
       "      <th>units</th>\n",
       "      <th>source</th>\n",
       "      <th>changes</th>\n",
       "      <th>notes</th>\n",
       "    </tr>\n",
       "  </thead>\n",
       "  <tbody>\n",
       "    <tr>\n",
       "      <th>0</th>\n",
       "      <td>EA001</td>\n",
       "      <td>Subsistence, Economy</td>\n",
       "      <td>Subsistence economy: gathering</td>\n",
       "      <td>Dependence on the gathering of wild plants and...</td>\n",
       "      <td>Ordinal</td>\n",
       "      <td>NaN</td>\n",
       "      <td>Murdock (1962-1971); Gray (1999)</td>\n",
       "      <td>NaN</td>\n",
       "      <td>NaN</td>\n",
       "    </tr>\n",
       "    <tr>\n",
       "      <th>1</th>\n",
       "      <td>EA002</td>\n",
       "      <td>Subsistence, Economy</td>\n",
       "      <td>Subsistence economy: hunting</td>\n",
       "      <td>Dependence on hunting, including trapping and ...</td>\n",
       "      <td>Ordinal</td>\n",
       "      <td>NaN</td>\n",
       "      <td>Murdock (1962-1971); Gray (1999)</td>\n",
       "      <td>NaN</td>\n",
       "      <td>NaN</td>\n",
       "    </tr>\n",
       "    <tr>\n",
       "      <th>2</th>\n",
       "      <td>EA003</td>\n",
       "      <td>Subsistence, Economy</td>\n",
       "      <td>Subsistence economy: fishing</td>\n",
       "      <td>Dependence on fishing, including shellfishing ...</td>\n",
       "      <td>Ordinal</td>\n",
       "      <td>NaN</td>\n",
       "      <td>Murdock (1962-1971); Gray (1999)</td>\n",
       "      <td>NaN</td>\n",
       "      <td>NaN</td>\n",
       "    </tr>\n",
       "    <tr>\n",
       "      <th>3</th>\n",
       "      <td>EA004</td>\n",
       "      <td>Subsistence, Economy</td>\n",
       "      <td>Subsistence economy: animal husbandry</td>\n",
       "      <td>Dependence on animal husbandry, relative to ot...</td>\n",
       "      <td>Ordinal</td>\n",
       "      <td>NaN</td>\n",
       "      <td>Murdock (1962-1971); Gray (1999)</td>\n",
       "      <td>NaN</td>\n",
       "      <td>NaN</td>\n",
       "    </tr>\n",
       "    <tr>\n",
       "      <th>4</th>\n",
       "      <td>EA005</td>\n",
       "      <td>Subsistence, Economy</td>\n",
       "      <td>Subsistence economy: agriculture</td>\n",
       "      <td>Dependence on agriculture, relative to other s...</td>\n",
       "      <td>Ordinal</td>\n",
       "      <td>NaN</td>\n",
       "      <td>Murdock (1962-1971); Gray (1999)</td>\n",
       "      <td>NaN</td>\n",
       "      <td>NaN</td>\n",
       "    </tr>\n",
       "  </tbody>\n",
       "</table>\n",
       "</div>"
      ],
      "text/plain": [
       "      id              category                                  title  \\\n",
       "0  EA001  Subsistence, Economy         Subsistence economy: gathering   \n",
       "1  EA002  Subsistence, Economy           Subsistence economy: hunting   \n",
       "2  EA003  Subsistence, Economy           Subsistence economy: fishing   \n",
       "3  EA004  Subsistence, Economy  Subsistence economy: animal husbandry   \n",
       "4  EA005  Subsistence, Economy       Subsistence economy: agriculture   \n",
       "\n",
       "                                          definition     type  units  \\\n",
       "0  Dependence on the gathering of wild plants and...  Ordinal    NaN   \n",
       "1  Dependence on hunting, including trapping and ...  Ordinal    NaN   \n",
       "2  Dependence on fishing, including shellfishing ...  Ordinal    NaN   \n",
       "3  Dependence on animal husbandry, relative to ot...  Ordinal    NaN   \n",
       "4  Dependence on agriculture, relative to other s...  Ordinal    NaN   \n",
       "\n",
       "                             source changes notes  \n",
       "0  Murdock (1962-1971); Gray (1999)     NaN   NaN  \n",
       "1  Murdock (1962-1971); Gray (1999)     NaN   NaN  \n",
       "2  Murdock (1962-1971); Gray (1999)     NaN   NaN  \n",
       "3  Murdock (1962-1971); Gray (1999)     NaN   NaN  \n",
       "4  Murdock (1962-1971); Gray (1999)     NaN   NaN  "
      ]
     },
     "execution_count": 13,
     "metadata": {},
     "output_type": "execute_result"
    }
   ],
   "source": [
    "var[var.type == 'Ordinal'].head()"
   ]
  },
  {
   "cell_type": "code",
   "execution_count": 14,
   "metadata": {},
   "outputs": [
    {
     "data": {
      "text/html": [
       "<div>\n",
       "<style scoped>\n",
       "    .dataframe tbody tr th:only-of-type {\n",
       "        vertical-align: middle;\n",
       "    }\n",
       "\n",
       "    .dataframe tbody tr th {\n",
       "        vertical-align: top;\n",
       "    }\n",
       "\n",
       "    .dataframe thead th {\n",
       "        text-align: right;\n",
       "    }\n",
       "</style>\n",
       "<table border=\"1\" class=\"dataframe\">\n",
       "  <thead>\n",
       "    <tr style=\"text-align: right;\">\n",
       "      <th></th>\n",
       "      <th>soc_id</th>\n",
       "      <th>sub_case</th>\n",
       "      <th>year</th>\n",
       "      <th>var_id</th>\n",
       "      <th>code</th>\n",
       "      <th>comment</th>\n",
       "      <th>references</th>\n",
       "      <th>source_coded_data</th>\n",
       "      <th>admin_comment</th>\n",
       "    </tr>\n",
       "  </thead>\n",
       "  <tbody>\n",
       "    <tr>\n",
       "      <th>0</th>\n",
       "      <td>Aa1</td>\n",
       "      <td>Nyai Nyae region</td>\n",
       "      <td>1950.0</td>\n",
       "      <td>EA001</td>\n",
       "      <td>8.0</td>\n",
       "      <td>NaN</td>\n",
       "      <td>biesele1972; biesele1975; biesele1976; draper1...</td>\n",
       "      <td>EthnographicAtlas_1967_p62</td>\n",
       "      <td>NaN</td>\n",
       "    </tr>\n",
       "    <tr>\n",
       "      <th>1</th>\n",
       "      <td>Aa2</td>\n",
       "      <td>with special reference to Central Dorobo</td>\n",
       "      <td>1920.0</td>\n",
       "      <td>EA001</td>\n",
       "      <td>4.0</td>\n",
       "      <td>NaN</td>\n",
       "      <td>huntingford1929; huntingford1942; huntingford1...</td>\n",
       "      <td>EthnographicAtlas_1967_p62</td>\n",
       "      <td>NaN</td>\n",
       "    </tr>\n",
       "    <tr>\n",
       "      <th>2</th>\n",
       "      <td>Aa3</td>\n",
       "      <td>Gei/Khauan tribe</td>\n",
       "      <td>1840.0</td>\n",
       "      <td>EA001</td>\n",
       "      <td>1.0</td>\n",
       "      <td>NaN</td>\n",
       "      <td>hoernl1918; hoernl1925; kohler1970; murdock193...</td>\n",
       "      <td>EthnographicAtlas_1967_p62</td>\n",
       "      <td>NaN</td>\n",
       "    </tr>\n",
       "    <tr>\n",
       "      <th>3</th>\n",
       "      <td>Aa4</td>\n",
       "      <td>NaN</td>\n",
       "      <td>1920.0</td>\n",
       "      <td>EA001</td>\n",
       "      <td>4.0</td>\n",
       "      <td>NaN</td>\n",
       "      <td>lebzelter1934; schmidt1930; vedder1923</td>\n",
       "      <td>Ethnology_Vol1_No3_Jul_1962</td>\n",
       "      <td>NaN</td>\n",
       "    </tr>\n",
       "    <tr>\n",
       "      <th>4</th>\n",
       "      <td>Aa5</td>\n",
       "      <td>Epulu net-hunters, Ituri forest</td>\n",
       "      <td>1930.0</td>\n",
       "      <td>EA001</td>\n",
       "      <td>3.0</td>\n",
       "      <td>NaN</td>\n",
       "      <td>deleeuwe1966; hart1978; putnam1948; turnbull19...</td>\n",
       "      <td>EthnographicAtlas_1967_p62</td>\n",
       "      <td>NaN</td>\n",
       "    </tr>\n",
       "  </tbody>\n",
       "</table>\n",
       "</div>"
      ],
      "text/plain": [
       "  soc_id                                  sub_case    year var_id  code  \\\n",
       "0    Aa1                          Nyai Nyae region  1950.0  EA001   8.0   \n",
       "1    Aa2  with special reference to Central Dorobo  1920.0  EA001   4.0   \n",
       "2    Aa3                          Gei/Khauan tribe  1840.0  EA001   1.0   \n",
       "3    Aa4                                       NaN  1920.0  EA001   4.0   \n",
       "4    Aa5           Epulu net-hunters, Ituri forest  1930.0  EA001   3.0   \n",
       "\n",
       "  comment                                         references  \\\n",
       "0     NaN  biesele1972; biesele1975; biesele1976; draper1...   \n",
       "1     NaN  huntingford1929; huntingford1942; huntingford1...   \n",
       "2     NaN  hoernl1918; hoernl1925; kohler1970; murdock193...   \n",
       "3     NaN             lebzelter1934; schmidt1930; vedder1923   \n",
       "4     NaN  deleeuwe1966; hart1978; putnam1948; turnbull19...   \n",
       "\n",
       "             source_coded_data admin_comment  \n",
       "0   EthnographicAtlas_1967_p62           NaN  \n",
       "1   EthnographicAtlas_1967_p62           NaN  \n",
       "2   EthnographicAtlas_1967_p62           NaN  \n",
       "3  Ethnology_Vol1_No3_Jul_1962           NaN  \n",
       "4   EthnographicAtlas_1967_p62           NaN  "
      ]
     },
     "execution_count": 14,
     "metadata": {},
     "output_type": "execute_result"
    }
   ],
   "source": [
    "ea[ea.var_id == \"EA001\"].head()"
   ]
  },
  {
   "cell_type": "code",
   "execution_count": 15,
   "metadata": {},
   "outputs": [
    {
     "data": {
      "text/plain": [
       "1.0    452\n",
       "0.0    395\n",
       "2.0    177\n",
       "3.0    139\n",
       "4.0     68\n",
       "5.0     28\n",
       "6.0     12\n",
       "8.0     10\n",
       "7.0      6\n",
       "9.0      3\n",
       "Name: code, dtype: int64"
      ]
     },
     "execution_count": 15,
     "metadata": {},
     "output_type": "execute_result"
    }
   ],
   "source": [
    "ea[ea.var_id == \"EA002\"].code.value_counts()"
   ]
  },
  {
   "cell_type": "code",
   "execution_count": 21,
   "metadata": {},
   "outputs": [],
   "source": [
    "soc2 = soc[['id','pref_name_for_society','glottocode','Lat','Long']]\n",
    "ea2 = ea[['soc_id','var_id','code']]\n",
    "var2 = var[['id','title','category','type']]"
   ]
  },
  {
   "cell_type": "markdown",
   "metadata": {},
   "source": [
    "### Merge relational databases"
   ]
  },
  {
   "cell_type": "markdown",
   "metadata": {},
   "source": [
    "In this step I will finally merge all the important information in a single table."
   ]
  },
  {
   "cell_type": "code",
   "execution_count": 22,
   "metadata": {},
   "outputs": [],
   "source": [
    "#Merge the main table with society information\n",
    "t1 = ea2.merge(soc2, left_on = 'soc_id', right_on = 'id')\n",
    "#Merge the previuos with the name of the variables\n",
    "t2 = t1.merge(var2, left_on = 'var_id', right_on ='id')\n",
    "#Create a auxiliar column to identify the correct code for each variable\n",
    "t2['cat'] = t2.var_id.apply(str) + t2.code.apply(str)\n",
    "#Create the same key in codes table\n",
    "codes['cat'] = codes.var_id.apply(str) + codes.code.apply(str)\n",
    "#Merge codes by auxiliary column\n",
    "t3 = t2.merge(codes, left_on = 'cat', right_on = 'cat', how = 'left')\n",
    "# set code as value for ordinal features (adding one to later give code zero to Nan values)and name for categorical ones\n",
    "t3['fname'] = np.where((t3.type == 'Ordinal')|(t3.type =='Continuous'), t3.code_x + 1.0, t3.name)\n",
    "#Filtering the only necessary columns\n",
    "t4 = t3[['pref_name_for_society','title','fname','type','code_x']]"
   ]
  },
  {
   "cell_type": "code",
   "execution_count": 23,
   "metadata": {},
   "outputs": [
    {
     "data": {
      "text/plain": [
       "description                   code_x  fname\n",
       "Zero to 5 percent dependence  0.0     1.0      722\n",
       "6 to 15 percent dependence    1.0     2.0      265\n",
       "16 to 25 percent dependence   2.0     3.0      118\n",
       "26 to 35 percent dependence   3.0     4.0       62\n",
       "36 to 45 percent dependence   4.0     5.0       48\n",
       "46 to 55 percent dependence   5.0     6.0       35\n",
       "56 to 65 percent dependence   6.0     7.0       31\n",
       "66 to 75 percent dependence   7.0     8.0        6\n",
       "76 to 85 percent dependence   8.0     9.0        3\n",
       "dtype: int64"
      ]
     },
     "execution_count": 23,
     "metadata": {},
     "output_type": "execute_result"
    }
   ],
   "source": [
    "#Safety check that codes are good representation of ordinal categories\n",
    "t3[t3.title =='Subsistence economy: gathering'].groupby(['description','code_x','fname']).size().sort_values(ascending=False)#.sort_by('code_x').rename(columns={0:'count'})"
   ]
  },
  {
   "cell_type": "code",
   "execution_count": 24,
   "metadata": {},
   "outputs": [
    {
     "data": {
      "text/html": [
       "<div>\n",
       "<style scoped>\n",
       "    .dataframe tbody tr th:only-of-type {\n",
       "        vertical-align: middle;\n",
       "    }\n",
       "\n",
       "    .dataframe tbody tr th {\n",
       "        vertical-align: top;\n",
       "    }\n",
       "\n",
       "    .dataframe thead th {\n",
       "        text-align: right;\n",
       "    }\n",
       "</style>\n",
       "<table border=\"1\" class=\"dataframe\">\n",
       "  <thead>\n",
       "    <tr style=\"text-align: right;\">\n",
       "      <th></th>\n",
       "      <th>pref_name_for_society</th>\n",
       "      <th>title</th>\n",
       "      <th>fname</th>\n",
       "      <th>type</th>\n",
       "      <th>code_x</th>\n",
       "    </tr>\n",
       "  </thead>\n",
       "  <tbody>\n",
       "    <tr>\n",
       "      <th>33932</th>\n",
       "      <td>Koalib</td>\n",
       "      <td>Subsistence economy: fishing</td>\n",
       "      <td>1</td>\n",
       "      <td>Ordinal</td>\n",
       "      <td>0.0</td>\n",
       "    </tr>\n",
       "    <tr>\n",
       "      <th>17126</th>\n",
       "      <td>Namshi</td>\n",
       "      <td>Subsistence economy: hunting</td>\n",
       "      <td>2</td>\n",
       "      <td>Ordinal</td>\n",
       "      <td>1.0</td>\n",
       "    </tr>\n",
       "    <tr>\n",
       "      <th>62964</th>\n",
       "      <td>Klikitat</td>\n",
       "      <td>Subsistence economy: agriculture</td>\n",
       "      <td>1</td>\n",
       "      <td>Ordinal</td>\n",
       "      <td>0.0</td>\n",
       "    </tr>\n",
       "    <tr>\n",
       "      <th>707</th>\n",
       "      <td>Sugbuanon</td>\n",
       "      <td>Subsistence economy: gathering</td>\n",
       "      <td>1</td>\n",
       "      <td>Ordinal</td>\n",
       "      <td>0.0</td>\n",
       "    </tr>\n",
       "    <tr>\n",
       "      <th>33785</th>\n",
       "      <td>Assini</td>\n",
       "      <td>Subsistence economy: fishing</td>\n",
       "      <td>4</td>\n",
       "      <td>Ordinal</td>\n",
       "      <td>3.0</td>\n",
       "    </tr>\n",
       "    <tr>\n",
       "      <th>63001</th>\n",
       "      <td>Panguitch</td>\n",
       "      <td>Subsistence economy: agriculture</td>\n",
       "      <td>1</td>\n",
       "      <td>Ordinal</td>\n",
       "      <td>0.0</td>\n",
       "    </tr>\n",
       "    <tr>\n",
       "      <th>959</th>\n",
       "      <td>Wintu</td>\n",
       "      <td>Subsistence economy: gathering</td>\n",
       "      <td>4</td>\n",
       "      <td>Ordinal</td>\n",
       "      <td>3.0</td>\n",
       "    </tr>\n",
       "    <tr>\n",
       "      <th>36860</th>\n",
       "      <td>Bilaan</td>\n",
       "      <td>Mean size of local communities</td>\n",
       "      <td>NaN</td>\n",
       "      <td>Ordinal</td>\n",
       "      <td>NaN</td>\n",
       "    </tr>\n",
       "    <tr>\n",
       "      <th>43870</th>\n",
       "      <td>Erzya Mordvins</td>\n",
       "      <td>Post-partum sex taboos</td>\n",
       "      <td>NaN</td>\n",
       "      <td>Ordinal</td>\n",
       "      <td>NaN</td>\n",
       "    </tr>\n",
       "    <tr>\n",
       "      <th>38822</th>\n",
       "      <td>Rangi</td>\n",
       "      <td>Jurisdictional hierarchy beyond local community</td>\n",
       "      <td>3</td>\n",
       "      <td>Ordinal</td>\n",
       "      <td>2.0</td>\n",
       "    </tr>\n",
       "  </tbody>\n",
       "</table>\n",
       "</div>"
      ],
      "text/plain": [
       "      pref_name_for_society                                            title  \\\n",
       "33932                Koalib                     Subsistence economy: fishing   \n",
       "17126                Namshi                     Subsistence economy: hunting   \n",
       "62964              Klikitat                 Subsistence economy: agriculture   \n",
       "707               Sugbuanon                   Subsistence economy: gathering   \n",
       "33785                Assini                     Subsistence economy: fishing   \n",
       "63001             Panguitch                 Subsistence economy: agriculture   \n",
       "959                   Wintu                   Subsistence economy: gathering   \n",
       "36860                Bilaan                   Mean size of local communities   \n",
       "43870        Erzya Mordvins                           Post-partum sex taboos   \n",
       "38822                 Rangi  Jurisdictional hierarchy beyond local community   \n",
       "\n",
       "      fname     type  code_x  \n",
       "33932     1  Ordinal     0.0  \n",
       "17126     2  Ordinal     1.0  \n",
       "62964     1  Ordinal     0.0  \n",
       "707       1  Ordinal     0.0  \n",
       "33785     4  Ordinal     3.0  \n",
       "63001     1  Ordinal     0.0  \n",
       "959       4  Ordinal     3.0  \n",
       "36860   NaN  Ordinal     NaN  \n",
       "43870   NaN  Ordinal     NaN  \n",
       "38822     3  Ordinal     2.0  "
      ]
     },
     "execution_count": 24,
     "metadata": {},
     "output_type": "execute_result"
    }
   ],
   "source": [
    "t4[t4.type == 'Ordinal'].sample(10)"
   ]
  },
  {
   "cell_type": "code",
   "execution_count": 27,
   "metadata": {},
   "outputs": [],
   "source": [
    "## clean missing values\n",
    "t4[t4.fname.isnull()].shape\n",
    "t4 = t4.replace('Missing data',np.NaN)"
   ]
  },
  {
   "cell_type": "markdown",
   "metadata": {},
   "source": [
    "#### Split table by type of feature and reshape"
   ]
  },
  {
   "cell_type": "code",
   "execution_count": 28,
   "metadata": {},
   "outputs": [],
   "source": [
    "#Reshape from long to wide, to create one row for each cultural group\n",
    "t4_O = t4[t4.type == 'Ordinal'].pivot(index='pref_name_for_society',columns='title', values='fname')\n",
    "t4_C = t4[t4.type == 'Categorical'].pivot(index='pref_name_for_society',columns='title', values='fname')\n",
    "t4_n = t4[t4.type == 'Continuous'].pivot(index='pref_name_for_society',columns='title', values='fname')"
   ]
  },
  {
   "cell_type": "markdown",
   "metadata": {},
   "source": [
    "#### Encode categorical features to a sparse matrix"
   ]
  },
  {
   "cell_type": "markdown",
   "metadata": {},
   "source": [
    "In this step I will transform categorical data into a column for each category. Null values wil have a value of zero."
   ]
  },
  {
   "cell_type": "code",
   "execution_count": 29,
   "metadata": {},
   "outputs": [
    {
     "data": {
      "text/plain": [
       "((1291, 84), (1291, 457))"
      ]
     },
     "execution_count": 29,
     "metadata": {},
     "output_type": "execute_result"
    }
   ],
   "source": [
    "t4_C2 = pd.get_dummies(t4_C, prefix_sep='_', drop_first=True)\n",
    "t4_C.shape, t4_C2.shape"
   ]
  },
  {
   "cell_type": "markdown",
   "metadata": {},
   "source": [
    "#### Merge features back to single dataset"
   ]
  },
  {
   "cell_type": "code",
   "execution_count": 30,
   "metadata": {},
   "outputs": [],
   "source": [
    "#Merge Categoriacal features with numerical ones\n",
    "t5 = pd.concat([t4_O,t4_C2,t4_n], axis = 1)\n",
    "t5 = t5.replace(np.NaN,0)"
   ]
  },
  {
   "cell_type": "code",
   "execution_count": 31,
   "metadata": {},
   "outputs": [
    {
     "data": {
      "text/html": [
       "<div>\n",
       "<style scoped>\n",
       "    .dataframe tbody tr th:only-of-type {\n",
       "        vertical-align: middle;\n",
       "    }\n",
       "\n",
       "    .dataframe tbody tr th {\n",
       "        vertical-align: top;\n",
       "    }\n",
       "\n",
       "    .dataframe thead th {\n",
       "        text-align: right;\n",
       "    }\n",
       "</style>\n",
       "<table border=\"1\" class=\"dataframe\">\n",
       "  <thead>\n",
       "    <tr style=\"text-align: right;\">\n",
       "      <th></th>\n",
       "      <th>Jurisdictional hierarchy beyond local community</th>\n",
       "      <th>Jurisdictional hierarchy of local community</th>\n",
       "      <th>Mean size of local communities</th>\n",
       "      <th>Post-partum sex taboos</th>\n",
       "      <th>Subsistence economy: agriculture</th>\n",
       "      <th>Subsistence economy: animal husbandry</th>\n",
       "      <th>Subsistence economy: fishing</th>\n",
       "      <th>Subsistence economy: gathering</th>\n",
       "      <th>Subsistence economy: hunting</th>\n",
       "      <th>Age or occupational specialization: agriculture_Craft</th>\n",
       "      <th>...</th>\n",
       "      <th>Transactions at marriage: prevailing type_Token bride-wealth</th>\n",
       "      <th>Transactions at marriage: prevailing type_Woman exchange</th>\n",
       "      <th>Transfer of residence at marriage: alternate_Husband to wife</th>\n",
       "      <th>Transfer of residence at marriage: alternate_No alternate</th>\n",
       "      <th>Transfer of residence at marriage: alternate_Separate</th>\n",
       "      <th>Transfer of residence at marriage: alternate_Wife to husband</th>\n",
       "      <th>Transfer of residence at marriage: prevailing pattern_Husband to wife</th>\n",
       "      <th>Transfer of residence at marriage: prevailing pattern_Separate</th>\n",
       "      <th>Transfer of residence at marriage: prevailing pattern_Wife to husband</th>\n",
       "      <th>Population size</th>\n",
       "    </tr>\n",
       "    <tr>\n",
       "      <th>pref_name_for_society</th>\n",
       "      <th></th>\n",
       "      <th></th>\n",
       "      <th></th>\n",
       "      <th></th>\n",
       "      <th></th>\n",
       "      <th></th>\n",
       "      <th></th>\n",
       "      <th></th>\n",
       "      <th></th>\n",
       "      <th></th>\n",
       "      <th></th>\n",
       "      <th></th>\n",
       "      <th></th>\n",
       "      <th></th>\n",
       "      <th></th>\n",
       "      <th></th>\n",
       "      <th></th>\n",
       "      <th></th>\n",
       "      <th></th>\n",
       "      <th></th>\n",
       "      <th></th>\n",
       "    </tr>\n",
       "  </thead>\n",
       "  <tbody>\n",
       "    <tr>\n",
       "      <th>!Kung</th>\n",
       "      <td>2.0</td>\n",
       "      <td>4.0</td>\n",
       "      <td>2.0</td>\n",
       "      <td>4.0</td>\n",
       "      <td>1.0</td>\n",
       "      <td>1.0</td>\n",
       "      <td>1.0</td>\n",
       "      <td>9.0</td>\n",
       "      <td>3.0</td>\n",
       "      <td>0</td>\n",
       "      <td>...</td>\n",
       "      <td>0</td>\n",
       "      <td>0</td>\n",
       "      <td>0</td>\n",
       "      <td>1</td>\n",
       "      <td>0</td>\n",
       "      <td>0</td>\n",
       "      <td>0</td>\n",
       "      <td>0</td>\n",
       "      <td>0</td>\n",
       "      <td>3501.0</td>\n",
       "    </tr>\n",
       "    <tr>\n",
       "      <th>/Xam</th>\n",
       "      <td>2.0</td>\n",
       "      <td>3.0</td>\n",
       "      <td>2.0</td>\n",
       "      <td>0.0</td>\n",
       "      <td>1.0</td>\n",
       "      <td>1.0</td>\n",
       "      <td>2.0</td>\n",
       "      <td>6.0</td>\n",
       "      <td>5.0</td>\n",
       "      <td>0</td>\n",
       "      <td>...</td>\n",
       "      <td>0</td>\n",
       "      <td>0</td>\n",
       "      <td>0</td>\n",
       "      <td>1</td>\n",
       "      <td>0</td>\n",
       "      <td>0</td>\n",
       "      <td>0</td>\n",
       "      <td>0</td>\n",
       "      <td>0</td>\n",
       "      <td>0.0</td>\n",
       "    </tr>\n",
       "    <tr>\n",
       "      <th>Ababda</th>\n",
       "      <td>3.0</td>\n",
       "      <td>3.0</td>\n",
       "      <td>2.0</td>\n",
       "      <td>0.0</td>\n",
       "      <td>2.0</td>\n",
       "      <td>9.0</td>\n",
       "      <td>1.0</td>\n",
       "      <td>1.0</td>\n",
       "      <td>2.0</td>\n",
       "      <td>0</td>\n",
       "      <td>...</td>\n",
       "      <td>0</td>\n",
       "      <td>0</td>\n",
       "      <td>0</td>\n",
       "      <td>1</td>\n",
       "      <td>0</td>\n",
       "      <td>0</td>\n",
       "      <td>0</td>\n",
       "      <td>0</td>\n",
       "      <td>1</td>\n",
       "      <td>13001.0</td>\n",
       "    </tr>\n",
       "    <tr>\n",
       "      <th>Abarambo</th>\n",
       "      <td>3.0</td>\n",
       "      <td>3.0</td>\n",
       "      <td>0.0</td>\n",
       "      <td>0.0</td>\n",
       "      <td>7.0</td>\n",
       "      <td>2.0</td>\n",
       "      <td>2.0</td>\n",
       "      <td>1.0</td>\n",
       "      <td>3.0</td>\n",
       "      <td>0</td>\n",
       "      <td>...</td>\n",
       "      <td>0</td>\n",
       "      <td>0</td>\n",
       "      <td>0</td>\n",
       "      <td>1</td>\n",
       "      <td>0</td>\n",
       "      <td>0</td>\n",
       "      <td>0</td>\n",
       "      <td>0</td>\n",
       "      <td>1</td>\n",
       "      <td>50001.0</td>\n",
       "    </tr>\n",
       "    <tr>\n",
       "      <th>Abelam</th>\n",
       "      <td>2.0</td>\n",
       "      <td>4.0</td>\n",
       "      <td>0.0</td>\n",
       "      <td>5.0</td>\n",
       "      <td>7.0</td>\n",
       "      <td>2.0</td>\n",
       "      <td>1.0</td>\n",
       "      <td>3.0</td>\n",
       "      <td>2.0</td>\n",
       "      <td>0</td>\n",
       "      <td>...</td>\n",
       "      <td>0</td>\n",
       "      <td>0</td>\n",
       "      <td>0</td>\n",
       "      <td>1</td>\n",
       "      <td>0</td>\n",
       "      <td>0</td>\n",
       "      <td>0</td>\n",
       "      <td>0</td>\n",
       "      <td>1</td>\n",
       "      <td>0.0</td>\n",
       "    </tr>\n",
       "  </tbody>\n",
       "</table>\n",
       "<p>5 rows × 467 columns</p>\n",
       "</div>"
      ],
      "text/plain": [
       "                       Jurisdictional hierarchy beyond local community  \\\n",
       "pref_name_for_society                                                    \n",
       "!Kung                                                              2.0   \n",
       "/Xam                                                               2.0   \n",
       "Ababda                                                             3.0   \n",
       "Abarambo                                                           3.0   \n",
       "Abelam                                                             2.0   \n",
       "\n",
       "                       Jurisdictional hierarchy of local community  \\\n",
       "pref_name_for_society                                                \n",
       "!Kung                                                          4.0   \n",
       "/Xam                                                           3.0   \n",
       "Ababda                                                         3.0   \n",
       "Abarambo                                                       3.0   \n",
       "Abelam                                                         4.0   \n",
       "\n",
       "                       Mean size of local communities  Post-partum sex taboos  \\\n",
       "pref_name_for_society                                                           \n",
       "!Kung                                             2.0                     4.0   \n",
       "/Xam                                              2.0                     0.0   \n",
       "Ababda                                            2.0                     0.0   \n",
       "Abarambo                                          0.0                     0.0   \n",
       "Abelam                                            0.0                     5.0   \n",
       "\n",
       "                       Subsistence economy: agriculture  \\\n",
       "pref_name_for_society                                     \n",
       "!Kung                                               1.0   \n",
       "/Xam                                                1.0   \n",
       "Ababda                                              2.0   \n",
       "Abarambo                                            7.0   \n",
       "Abelam                                              7.0   \n",
       "\n",
       "                       Subsistence economy: animal husbandry  \\\n",
       "pref_name_for_society                                          \n",
       "!Kung                                                    1.0   \n",
       "/Xam                                                     1.0   \n",
       "Ababda                                                   9.0   \n",
       "Abarambo                                                 2.0   \n",
       "Abelam                                                   2.0   \n",
       "\n",
       "                       Subsistence economy: fishing  \\\n",
       "pref_name_for_society                                 \n",
       "!Kung                                           1.0   \n",
       "/Xam                                            2.0   \n",
       "Ababda                                          1.0   \n",
       "Abarambo                                        2.0   \n",
       "Abelam                                          1.0   \n",
       "\n",
       "                       Subsistence economy: gathering  \\\n",
       "pref_name_for_society                                   \n",
       "!Kung                                             9.0   \n",
       "/Xam                                              6.0   \n",
       "Ababda                                            1.0   \n",
       "Abarambo                                          1.0   \n",
       "Abelam                                            3.0   \n",
       "\n",
       "                       Subsistence economy: hunting  \\\n",
       "pref_name_for_society                                 \n",
       "!Kung                                           3.0   \n",
       "/Xam                                            5.0   \n",
       "Ababda                                          2.0   \n",
       "Abarambo                                        3.0   \n",
       "Abelam                                          2.0   \n",
       "\n",
       "                       Age or occupational specialization: agriculture_Craft  \\\n",
       "pref_name_for_society                                                          \n",
       "!Kung                                                                  0       \n",
       "/Xam                                                                   0       \n",
       "Ababda                                                                 0       \n",
       "Abarambo                                                               0       \n",
       "Abelam                                                                 0       \n",
       "\n",
       "                            ...         \\\n",
       "pref_name_for_society       ...          \n",
       "!Kung                       ...          \n",
       "/Xam                        ...          \n",
       "Ababda                      ...          \n",
       "Abarambo                    ...          \n",
       "Abelam                      ...          \n",
       "\n",
       "                       Transactions at marriage: prevailing type_Token bride-wealth  \\\n",
       "pref_name_for_society                                                                 \n",
       "!Kung                                                                  0              \n",
       "/Xam                                                                   0              \n",
       "Ababda                                                                 0              \n",
       "Abarambo                                                               0              \n",
       "Abelam                                                                 0              \n",
       "\n",
       "                       Transactions at marriage: prevailing type_Woman exchange  \\\n",
       "pref_name_for_society                                                             \n",
       "!Kung                                                                  0          \n",
       "/Xam                                                                   0          \n",
       "Ababda                                                                 0          \n",
       "Abarambo                                                               0          \n",
       "Abelam                                                                 0          \n",
       "\n",
       "                       Transfer of residence at marriage: alternate_Husband to wife  \\\n",
       "pref_name_for_society                                                                 \n",
       "!Kung                                                                  0              \n",
       "/Xam                                                                   0              \n",
       "Ababda                                                                 0              \n",
       "Abarambo                                                               0              \n",
       "Abelam                                                                 0              \n",
       "\n",
       "                       Transfer of residence at marriage: alternate_No alternate  \\\n",
       "pref_name_for_society                                                              \n",
       "!Kung                                                                  1           \n",
       "/Xam                                                                   1           \n",
       "Ababda                                                                 1           \n",
       "Abarambo                                                               1           \n",
       "Abelam                                                                 1           \n",
       "\n",
       "                       Transfer of residence at marriage: alternate_Separate  \\\n",
       "pref_name_for_society                                                          \n",
       "!Kung                                                                  0       \n",
       "/Xam                                                                   0       \n",
       "Ababda                                                                 0       \n",
       "Abarambo                                                               0       \n",
       "Abelam                                                                 0       \n",
       "\n",
       "                       Transfer of residence at marriage: alternate_Wife to husband  \\\n",
       "pref_name_for_society                                                                 \n",
       "!Kung                                                                  0              \n",
       "/Xam                                                                   0              \n",
       "Ababda                                                                 0              \n",
       "Abarambo                                                               0              \n",
       "Abelam                                                                 0              \n",
       "\n",
       "                       Transfer of residence at marriage: prevailing pattern_Husband to wife  \\\n",
       "pref_name_for_society                                                                          \n",
       "!Kung                                                                  0                       \n",
       "/Xam                                                                   0                       \n",
       "Ababda                                                                 0                       \n",
       "Abarambo                                                               0                       \n",
       "Abelam                                                                 0                       \n",
       "\n",
       "                       Transfer of residence at marriage: prevailing pattern_Separate  \\\n",
       "pref_name_for_society                                                                   \n",
       "!Kung                                                                  0                \n",
       "/Xam                                                                   0                \n",
       "Ababda                                                                 0                \n",
       "Abarambo                                                               0                \n",
       "Abelam                                                                 0                \n",
       "\n",
       "                       Transfer of residence at marriage: prevailing pattern_Wife to husband  \\\n",
       "pref_name_for_society                                                                          \n",
       "!Kung                                                                  0                       \n",
       "/Xam                                                                   0                       \n",
       "Ababda                                                                 1                       \n",
       "Abarambo                                                               1                       \n",
       "Abelam                                                                 1                       \n",
       "\n",
       "                       Population size  \n",
       "pref_name_for_society                   \n",
       "!Kung                           3501.0  \n",
       "/Xam                               0.0  \n",
       "Ababda                         13001.0  \n",
       "Abarambo                       50001.0  \n",
       "Abelam                             0.0  \n",
       "\n",
       "[5 rows x 467 columns]"
      ]
     },
     "execution_count": 31,
     "metadata": {},
     "output_type": "execute_result"
    }
   ],
   "source": [
    "t5.head()"
   ]
  },
  {
   "cell_type": "markdown",
   "metadata": {},
   "source": [
    "### After cleaning dataset"
   ]
  },
  {
   "cell_type": "markdown",
   "metadata": {},
   "source": [
    "I finally have a database to work with, where each row represent a cultural group with all its features in each column.\n",
    "\n",
    "In the previous step I transformed each of this row into a vector. In Algebra a Vector is an element of the vectorial space (abstract space), which is a set of dimentions. This is a very abtract concept, but is easier to imaginate with an example:\n",
    "\n",
    "Let say we have a database with information of different cities of the word. Each row represent a city and each column represent an aspect or feature (dimension) of that city. For instance, the latitud and longitud.  Despite are both numerical information it doesn't make sense to add them or multiply latittud by longitud, they are complete different metrics, they are different dimensions.\n",
    "\n",
    "We can put this graphically on a map, right? So, latitud and longitud give us the position of the city. If I want to describe the city as a vector, let say a single number, I could draw a point from the latitud 0 and longitud 0 to the latitud and longitud of the city. I could measure how long this line is, but as is in terms of coordinates I cannot use meters, but the result will be in an abstract measure of both latitud and longitud (trust me in this part). It doesn't matter what the number means, we can record the vector as a list of latitud of the city and longitud of the city, like:\n",
    "\n",
    "$\\vec{o} = \\begin{bmatrix}\n",
    "    lat_{city} \\\\\n",
    "    long_{city} \\\\\n",
    "\\end{bmatrix}$\n",
    "\n",
    "We can add an extra dimention: altitud, how adove (or below) is the city repect to the ocean level. Now our map is in 3D (3 dimensions). Good! Lets keep adding dimension. Let say we want to add population size, official language, GPD per capita. Neither of this features could be added or sustracted meanfully to another, then they are different dimensions as well.\n",
    "\n",
    "But, wait a minute, I cannot add more dimension to my map. Well, we can if we make some tricks, like draw the city not as a point but as a circle of different size according to polpulation size, colored in a scale for GDP per capita, but official language will become a little bit tricky (maybe I could codify as a geometric shape), but what if I want to keep adding dimension, as country to where its belong, amount of taxes, name of its leader, etc. Eventually I will run out of tricks. Then is time to grow up.\n",
    "\n",
    "As my mind cannot think graphicly so many dimensions is time to go abstract and forget the map. I still understand that a city has many features or dimensions and they cannot interact eachother, and the most important, I could still draw a abstract vector and have that abstract number, like:\n",
    "\n",
    "$\\vec{o} = \\begin{bmatrix}\n",
    "lat_{city} \\\\\n",
    "long_{city} \\\\\n",
    "alti_{city} \\\\\n",
    "GPD_{city} \\\\\n",
    "lang_{city} \\\\\n",
    "pop_{city} \\\\\n",
    "lead_{city} \\\\\n",
    "country_{city} \\\\\n",
    "tax_{city} \\\\\n",
    "\\end{bmatrix}$\n",
    "\n",
    "Once I have that vector. I can measure distances among them, then I can see which is closer to the other, this means, more similar.\n",
    "\n",
    "Of course, is easear to calculate a vector if the elements are numbers. But what happens when the information is qualitative?. That is the case for categorical data. So, what we do is apply the same concept again. Each class of the categorical data cannot be added or sustracted from the other, there are different dimensions. So we assign a diffent dimension and we register a boolean (True o False, 0 or 1) record of it. In our expmple:\n",
    "\n",
    "$\\vec{o} = \\begin{bmatrix}\n",
    "lat_{city} \\\\\n",
    "long_{city} \\\\\n",
    "alti_{city} \\\\\n",
    "GPD_{city} \\\\\n",
    "lang-es_{city} \\\\\n",
    "lang-en_{city} \\\\\n",
    "lang-fr_{city} \\\\\n",
    "\\end{bmatrix}$\n",
    "\n",
    "In this way each possible language (es, en or fr) gets its own dimension and the vector move in the dimension of one of the languages but not in the others.\n",
    "\n",
    "This is the principe I applied to any categorical attribute of cultural groups, creating a abstract measure then apply similarity. \n",
    "\n",
    "If the similarity works I could then map the vector reducing its dimensionality. In Algebra this is a very well known problem, so it won't be a too problematic. After that I could cluster the cultural groups and see if its makes some sense by comparing with its geografical distribution, language parenthood or any other known metric to group cultural groups.\n",
    "\n",
    "Hands on the problem then."
   ]
  },
  {
   "cell_type": "markdown",
   "metadata": {},
   "source": [
    "#### Rescale features to same scale ->{0,1}"
   ]
  },
  {
   "cell_type": "markdown",
   "metadata": {},
   "source": [
    "I don't want over representation of any feature just because its scale is in thousands while other values are between zero and one. Let's turn them all in the least scale."
   ]
  },
  {
   "cell_type": "code",
   "execution_count": 32,
   "metadata": {},
   "outputs": [
    {
     "data": {
      "text/plain": [
       "count    1.291000e+03\n",
       "mean     3.200128e+05\n",
       "std      2.758164e+06\n",
       "min      0.000000e+00\n",
       "25%      0.000000e+00\n",
       "50%      2.801000e+03\n",
       "75%      5.000100e+04\n",
       "max      8.000000e+07\n",
       "Name: Population size, dtype: float64"
      ]
     },
     "execution_count": 32,
     "metadata": {},
     "output_type": "execute_result"
    }
   ],
   "source": [
    "t5.iloc[:,-1].describe()"
   ]
  },
  {
   "cell_type": "code",
   "execution_count": 33,
   "metadata": {},
   "outputs": [],
   "source": [
    "from sklearn.preprocessing import MinMaxScaler\n",
    "t6 = t5.copy()\n",
    "scaler = MinMaxScaler()\n",
    "t6 = scaler.fit_transform(t6)"
   ]
  },
  {
   "cell_type": "code",
   "execution_count": 34,
   "metadata": {},
   "outputs": [
    {
     "data": {
      "text/plain": [
       "array([[3.33333333e-01, 8.00000000e-01, 2.22222222e-01, ...,\n",
       "        0.00000000e+00, 0.00000000e+00, 4.37624995e-05],\n",
       "       [3.33333333e-01, 6.00000000e-01, 2.22222222e-01, ...,\n",
       "        0.00000000e+00, 0.00000000e+00, 0.00000000e+00],\n",
       "       [5.00000000e-01, 6.00000000e-01, 2.22222222e-01, ...,\n",
       "        0.00000000e+00, 1.00000000e+00, 1.62512498e-04],\n",
       "       ...,\n",
       "       [3.33333333e-01, 8.00000000e-01, 0.00000000e+00, ...,\n",
       "        0.00000000e+00, 1.00000000e+00, 1.25124998e-05],\n",
       "       [8.33333333e-01, 8.00000000e-01, 0.00000000e+00, ...,\n",
       "        0.00000000e+00, 1.00000000e+00, 3.12501246e-03],\n",
       "       [3.33333333e-01, 1.00000000e+00, 7.77777778e-01, ...,\n",
       "        0.00000000e+00, 0.00000000e+00, 2.12624997e-05]])"
      ]
     },
     "execution_count": 34,
     "metadata": {},
     "output_type": "execute_result"
    }
   ],
   "source": [
    "t6"
   ]
  },
  {
   "cell_type": "code",
   "execution_count": 35,
   "metadata": {},
   "outputs": [
    {
     "data": {
      "text/plain": [
       "array([4.37624995e-05, 0.00000000e+00, 1.62512498e-04, ...,\n",
       "       1.25124998e-05, 3.12501246e-03, 2.12624997e-05])"
      ]
     },
     "execution_count": 35,
     "metadata": {},
     "output_type": "execute_result"
    }
   ],
   "source": [
    "t6[:,-1]"
   ]
  },
  {
   "cell_type": "code",
   "execution_count": 36,
   "metadata": {},
   "outputs": [],
   "source": [
    "t7 = t5.copy()\n",
    "t7[:] = t6"
   ]
  },
  {
   "cell_type": "code",
   "execution_count": 37,
   "metadata": {},
   "outputs": [
    {
     "data": {
      "text/html": [
       "<div>\n",
       "<style scoped>\n",
       "    .dataframe tbody tr th:only-of-type {\n",
       "        vertical-align: middle;\n",
       "    }\n",
       "\n",
       "    .dataframe tbody tr th {\n",
       "        vertical-align: top;\n",
       "    }\n",
       "\n",
       "    .dataframe thead th {\n",
       "        text-align: right;\n",
       "    }\n",
       "</style>\n",
       "<table border=\"1\" class=\"dataframe\">\n",
       "  <thead>\n",
       "    <tr style=\"text-align: right;\">\n",
       "      <th></th>\n",
       "      <th>Jurisdictional hierarchy beyond local community</th>\n",
       "      <th>Jurisdictional hierarchy of local community</th>\n",
       "      <th>Mean size of local communities</th>\n",
       "      <th>Post-partum sex taboos</th>\n",
       "      <th>Subsistence economy: agriculture</th>\n",
       "      <th>Subsistence economy: animal husbandry</th>\n",
       "      <th>Subsistence economy: fishing</th>\n",
       "      <th>Subsistence economy: gathering</th>\n",
       "      <th>Subsistence economy: hunting</th>\n",
       "      <th>Age or occupational specialization: agriculture_Craft</th>\n",
       "      <th>...</th>\n",
       "      <th>Transactions at marriage: prevailing type_Token bride-wealth</th>\n",
       "      <th>Transactions at marriage: prevailing type_Woman exchange</th>\n",
       "      <th>Transfer of residence at marriage: alternate_Husband to wife</th>\n",
       "      <th>Transfer of residence at marriage: alternate_No alternate</th>\n",
       "      <th>Transfer of residence at marriage: alternate_Separate</th>\n",
       "      <th>Transfer of residence at marriage: alternate_Wife to husband</th>\n",
       "      <th>Transfer of residence at marriage: prevailing pattern_Husband to wife</th>\n",
       "      <th>Transfer of residence at marriage: prevailing pattern_Separate</th>\n",
       "      <th>Transfer of residence at marriage: prevailing pattern_Wife to husband</th>\n",
       "      <th>Population size</th>\n",
       "    </tr>\n",
       "    <tr>\n",
       "      <th>pref_name_for_society</th>\n",
       "      <th></th>\n",
       "      <th></th>\n",
       "      <th></th>\n",
       "      <th></th>\n",
       "      <th></th>\n",
       "      <th></th>\n",
       "      <th></th>\n",
       "      <th></th>\n",
       "      <th></th>\n",
       "      <th></th>\n",
       "      <th></th>\n",
       "      <th></th>\n",
       "      <th></th>\n",
       "      <th></th>\n",
       "      <th></th>\n",
       "      <th></th>\n",
       "      <th></th>\n",
       "      <th></th>\n",
       "      <th></th>\n",
       "      <th></th>\n",
       "      <th></th>\n",
       "    </tr>\n",
       "  </thead>\n",
       "  <tbody>\n",
       "    <tr>\n",
       "      <th>!Kung</th>\n",
       "      <td>0.333333</td>\n",
       "      <td>0.8</td>\n",
       "      <td>0.222222</td>\n",
       "      <td>0.571429</td>\n",
       "      <td>0.1</td>\n",
       "      <td>0.1</td>\n",
       "      <td>0.1</td>\n",
       "      <td>1.000000</td>\n",
       "      <td>0.3</td>\n",
       "      <td>0.0</td>\n",
       "      <td>...</td>\n",
       "      <td>0.0</td>\n",
       "      <td>0.0</td>\n",
       "      <td>0.0</td>\n",
       "      <td>1.0</td>\n",
       "      <td>0.0</td>\n",
       "      <td>0.0</td>\n",
       "      <td>0.0</td>\n",
       "      <td>0.0</td>\n",
       "      <td>0.0</td>\n",
       "      <td>0.000044</td>\n",
       "    </tr>\n",
       "    <tr>\n",
       "      <th>/Xam</th>\n",
       "      <td>0.333333</td>\n",
       "      <td>0.6</td>\n",
       "      <td>0.222222</td>\n",
       "      <td>0.000000</td>\n",
       "      <td>0.1</td>\n",
       "      <td>0.1</td>\n",
       "      <td>0.2</td>\n",
       "      <td>0.666667</td>\n",
       "      <td>0.5</td>\n",
       "      <td>0.0</td>\n",
       "      <td>...</td>\n",
       "      <td>0.0</td>\n",
       "      <td>0.0</td>\n",
       "      <td>0.0</td>\n",
       "      <td>1.0</td>\n",
       "      <td>0.0</td>\n",
       "      <td>0.0</td>\n",
       "      <td>0.0</td>\n",
       "      <td>0.0</td>\n",
       "      <td>0.0</td>\n",
       "      <td>0.000000</td>\n",
       "    </tr>\n",
       "    <tr>\n",
       "      <th>Ababda</th>\n",
       "      <td>0.500000</td>\n",
       "      <td>0.6</td>\n",
       "      <td>0.222222</td>\n",
       "      <td>0.000000</td>\n",
       "      <td>0.2</td>\n",
       "      <td>0.9</td>\n",
       "      <td>0.1</td>\n",
       "      <td>0.111111</td>\n",
       "      <td>0.2</td>\n",
       "      <td>0.0</td>\n",
       "      <td>...</td>\n",
       "      <td>0.0</td>\n",
       "      <td>0.0</td>\n",
       "      <td>0.0</td>\n",
       "      <td>1.0</td>\n",
       "      <td>0.0</td>\n",
       "      <td>0.0</td>\n",
       "      <td>0.0</td>\n",
       "      <td>0.0</td>\n",
       "      <td>1.0</td>\n",
       "      <td>0.000163</td>\n",
       "    </tr>\n",
       "    <tr>\n",
       "      <th>Abarambo</th>\n",
       "      <td>0.500000</td>\n",
       "      <td>0.6</td>\n",
       "      <td>0.000000</td>\n",
       "      <td>0.000000</td>\n",
       "      <td>0.7</td>\n",
       "      <td>0.2</td>\n",
       "      <td>0.2</td>\n",
       "      <td>0.111111</td>\n",
       "      <td>0.3</td>\n",
       "      <td>0.0</td>\n",
       "      <td>...</td>\n",
       "      <td>0.0</td>\n",
       "      <td>0.0</td>\n",
       "      <td>0.0</td>\n",
       "      <td>1.0</td>\n",
       "      <td>0.0</td>\n",
       "      <td>0.0</td>\n",
       "      <td>0.0</td>\n",
       "      <td>0.0</td>\n",
       "      <td>1.0</td>\n",
       "      <td>0.000625</td>\n",
       "    </tr>\n",
       "    <tr>\n",
       "      <th>Abelam</th>\n",
       "      <td>0.333333</td>\n",
       "      <td>0.8</td>\n",
       "      <td>0.000000</td>\n",
       "      <td>0.714286</td>\n",
       "      <td>0.7</td>\n",
       "      <td>0.2</td>\n",
       "      <td>0.1</td>\n",
       "      <td>0.333333</td>\n",
       "      <td>0.2</td>\n",
       "      <td>0.0</td>\n",
       "      <td>...</td>\n",
       "      <td>0.0</td>\n",
       "      <td>0.0</td>\n",
       "      <td>0.0</td>\n",
       "      <td>1.0</td>\n",
       "      <td>0.0</td>\n",
       "      <td>0.0</td>\n",
       "      <td>0.0</td>\n",
       "      <td>0.0</td>\n",
       "      <td>1.0</td>\n",
       "      <td>0.000000</td>\n",
       "    </tr>\n",
       "  </tbody>\n",
       "</table>\n",
       "<p>5 rows × 467 columns</p>\n",
       "</div>"
      ],
      "text/plain": [
       "                       Jurisdictional hierarchy beyond local community  \\\n",
       "pref_name_for_society                                                    \n",
       "!Kung                                                         0.333333   \n",
       "/Xam                                                          0.333333   \n",
       "Ababda                                                        0.500000   \n",
       "Abarambo                                                      0.500000   \n",
       "Abelam                                                        0.333333   \n",
       "\n",
       "                       Jurisdictional hierarchy of local community  \\\n",
       "pref_name_for_society                                                \n",
       "!Kung                                                          0.8   \n",
       "/Xam                                                           0.6   \n",
       "Ababda                                                         0.6   \n",
       "Abarambo                                                       0.6   \n",
       "Abelam                                                         0.8   \n",
       "\n",
       "                       Mean size of local communities  Post-partum sex taboos  \\\n",
       "pref_name_for_society                                                           \n",
       "!Kung                                        0.222222                0.571429   \n",
       "/Xam                                         0.222222                0.000000   \n",
       "Ababda                                       0.222222                0.000000   \n",
       "Abarambo                                     0.000000                0.000000   \n",
       "Abelam                                       0.000000                0.714286   \n",
       "\n",
       "                       Subsistence economy: agriculture  \\\n",
       "pref_name_for_society                                     \n",
       "!Kung                                               0.1   \n",
       "/Xam                                                0.1   \n",
       "Ababda                                              0.2   \n",
       "Abarambo                                            0.7   \n",
       "Abelam                                              0.7   \n",
       "\n",
       "                       Subsistence economy: animal husbandry  \\\n",
       "pref_name_for_society                                          \n",
       "!Kung                                                    0.1   \n",
       "/Xam                                                     0.1   \n",
       "Ababda                                                   0.9   \n",
       "Abarambo                                                 0.2   \n",
       "Abelam                                                   0.2   \n",
       "\n",
       "                       Subsistence economy: fishing  \\\n",
       "pref_name_for_society                                 \n",
       "!Kung                                           0.1   \n",
       "/Xam                                            0.2   \n",
       "Ababda                                          0.1   \n",
       "Abarambo                                        0.2   \n",
       "Abelam                                          0.1   \n",
       "\n",
       "                       Subsistence economy: gathering  \\\n",
       "pref_name_for_society                                   \n",
       "!Kung                                        1.000000   \n",
       "/Xam                                         0.666667   \n",
       "Ababda                                       0.111111   \n",
       "Abarambo                                     0.111111   \n",
       "Abelam                                       0.333333   \n",
       "\n",
       "                       Subsistence economy: hunting  \\\n",
       "pref_name_for_society                                 \n",
       "!Kung                                           0.3   \n",
       "/Xam                                            0.5   \n",
       "Ababda                                          0.2   \n",
       "Abarambo                                        0.3   \n",
       "Abelam                                          0.2   \n",
       "\n",
       "                       Age or occupational specialization: agriculture_Craft  \\\n",
       "pref_name_for_society                                                          \n",
       "!Kung                                                                0.0       \n",
       "/Xam                                                                 0.0       \n",
       "Ababda                                                               0.0       \n",
       "Abarambo                                                             0.0       \n",
       "Abelam                                                               0.0       \n",
       "\n",
       "                            ...         \\\n",
       "pref_name_for_society       ...          \n",
       "!Kung                       ...          \n",
       "/Xam                        ...          \n",
       "Ababda                      ...          \n",
       "Abarambo                    ...          \n",
       "Abelam                      ...          \n",
       "\n",
       "                       Transactions at marriage: prevailing type_Token bride-wealth  \\\n",
       "pref_name_for_society                                                                 \n",
       "!Kung                                                                0.0              \n",
       "/Xam                                                                 0.0              \n",
       "Ababda                                                               0.0              \n",
       "Abarambo                                                             0.0              \n",
       "Abelam                                                               0.0              \n",
       "\n",
       "                       Transactions at marriage: prevailing type_Woman exchange  \\\n",
       "pref_name_for_society                                                             \n",
       "!Kung                                                                0.0          \n",
       "/Xam                                                                 0.0          \n",
       "Ababda                                                               0.0          \n",
       "Abarambo                                                             0.0          \n",
       "Abelam                                                               0.0          \n",
       "\n",
       "                       Transfer of residence at marriage: alternate_Husband to wife  \\\n",
       "pref_name_for_society                                                                 \n",
       "!Kung                                                                0.0              \n",
       "/Xam                                                                 0.0              \n",
       "Ababda                                                               0.0              \n",
       "Abarambo                                                             0.0              \n",
       "Abelam                                                               0.0              \n",
       "\n",
       "                       Transfer of residence at marriage: alternate_No alternate  \\\n",
       "pref_name_for_society                                                              \n",
       "!Kung                                                                1.0           \n",
       "/Xam                                                                 1.0           \n",
       "Ababda                                                               1.0           \n",
       "Abarambo                                                             1.0           \n",
       "Abelam                                                               1.0           \n",
       "\n",
       "                       Transfer of residence at marriage: alternate_Separate  \\\n",
       "pref_name_for_society                                                          \n",
       "!Kung                                                                0.0       \n",
       "/Xam                                                                 0.0       \n",
       "Ababda                                                               0.0       \n",
       "Abarambo                                                             0.0       \n",
       "Abelam                                                               0.0       \n",
       "\n",
       "                       Transfer of residence at marriage: alternate_Wife to husband  \\\n",
       "pref_name_for_society                                                                 \n",
       "!Kung                                                                0.0              \n",
       "/Xam                                                                 0.0              \n",
       "Ababda                                                               0.0              \n",
       "Abarambo                                                             0.0              \n",
       "Abelam                                                               0.0              \n",
       "\n",
       "                       Transfer of residence at marriage: prevailing pattern_Husband to wife  \\\n",
       "pref_name_for_society                                                                          \n",
       "!Kung                                                                0.0                       \n",
       "/Xam                                                                 0.0                       \n",
       "Ababda                                                               0.0                       \n",
       "Abarambo                                                             0.0                       \n",
       "Abelam                                                               0.0                       \n",
       "\n",
       "                       Transfer of residence at marriage: prevailing pattern_Separate  \\\n",
       "pref_name_for_society                                                                   \n",
       "!Kung                                                                0.0                \n",
       "/Xam                                                                 0.0                \n",
       "Ababda                                                               0.0                \n",
       "Abarambo                                                             0.0                \n",
       "Abelam                                                               0.0                \n",
       "\n",
       "                       Transfer of residence at marriage: prevailing pattern_Wife to husband  \\\n",
       "pref_name_for_society                                                                          \n",
       "!Kung                                                                0.0                       \n",
       "/Xam                                                                 0.0                       \n",
       "Ababda                                                               1.0                       \n",
       "Abarambo                                                             1.0                       \n",
       "Abelam                                                               1.0                       \n",
       "\n",
       "                       Population size  \n",
       "pref_name_for_society                   \n",
       "!Kung                         0.000044  \n",
       "/Xam                          0.000000  \n",
       "Ababda                        0.000163  \n",
       "Abarambo                      0.000625  \n",
       "Abelam                        0.000000  \n",
       "\n",
       "[5 rows x 467 columns]"
      ]
     },
     "execution_count": 37,
     "metadata": {},
     "output_type": "execute_result"
    }
   ],
   "source": [
    "# As always, safety check\n",
    "t7.head()"
   ]
  },
  {
   "cell_type": "markdown",
   "metadata": {},
   "source": [
    "### Estimate similarity"
   ]
  },
  {
   "cell_type": "markdown",
   "metadata": {},
   "source": [
    "Now, I have our vectors ready to measure distance between them. I will use cosine distance as has shown good results with other categorical data [cite required].\n",
    "\n",
    "Cosine distance calculate the diference in degree between the final position of the vectors (the line I drew in our maps example). Let say que put all our vector in the same starting point (coordinate 0, 0 of our map), then we draw the vector (an arrow) moving in its multiple dimensions. I will end up with lines going to many directions in our (multidimensional)map. That create many angles between our arrows.  \n",
    "I finally measure those angles (in degrees) between every one of the vectors.\n",
    "\n",
    "As a result I will have a new matrix or table containing the distances between each vector. That means a table of 1291 by 1291, where the diagonal values will be ONEs, as the similarity of the vector with themself is perfect, while zero represent non-similarity."
   ]
  },
  {
   "cell_type": "code",
   "execution_count": 41,
   "metadata": {},
   "outputs": [
    {
     "data": {
      "text/plain": [
       "'Washo'"
      ]
     },
     "execution_count": 41,
     "metadata": {},
     "output_type": "execute_result"
    }
   ],
   "source": [
    "from sklearn.metrics.pairwise import cosine_similarity\n",
    "\n",
    "tt=cosine_similarity(t7) \n",
    "\n",
    "tt=tt.astype(np.float)\n",
    "#Safty check, the the name of the most similar cultural group of the first group on table (!Kung)\n",
    "t7.index[np.argpartition(tt[0], -2)[-2]]"
   ]
  },
  {
   "cell_type": "code",
   "execution_count": 45,
   "metadata": {},
   "outputs": [
    {
     "data": {
      "text/plain": [
       "array([[1.        , 0.6404259 , 0.30048552, ..., 0.21942071, 0.41591135,\n",
       "        0.31596513],\n",
       "       [0.6404259 , 1.        , 0.4244474 , ..., 0.23836407, 0.30917293,\n",
       "        0.3205883 ],\n",
       "       [0.30048552, 0.4244474 , 1.        , ..., 0.43453682, 0.32610049,\n",
       "        0.25967135],\n",
       "       ...,\n",
       "       [0.21942071, 0.23836407, 0.43453682, ..., 1.        , 0.39423058,\n",
       "        0.28113865],\n",
       "       [0.41591135, 0.30917293, 0.32610049, ..., 0.39423058, 1.        ,\n",
       "        0.33123273],\n",
       "       [0.31596513, 0.3205883 , 0.25967135, ..., 0.28113865, 0.33123273,\n",
       "        1.        ]])"
      ]
     },
     "execution_count": 45,
     "metadata": {},
     "output_type": "execute_result"
    }
   ],
   "source": [
    "#safety check of the matrix\n",
    "tt"
   ]
  },
  {
   "cell_type": "code",
   "execution_count": 53,
   "metadata": {},
   "outputs": [
    {
     "data": {
      "text/plain": [
       "' Most similar cultural group to mapuche is: Zuni '"
      ]
     },
     "execution_count": 53,
     "metadata": {},
     "output_type": "execute_result"
    }
   ],
   "source": [
    "# Lets play:\n",
    "' Most similar cultural group to mapuche is: {0} '.format(t7.index[np.argpartition(tt[401], -2)[-2]])"
   ]
  },
  {
   "cell_type": "markdown",
   "metadata": {},
   "source": [
    "Amazing! I did not know anything about Zuni. But check it on wikipedia it says that is a cultural group that has similar desing to Mapuche culture (some Kultrun shapes) and organize its clans according to cardinal points, as mapuche do."
   ]
  },
  {
   "cell_type": "markdown",
   "metadata": {},
   "source": [
    "### Make a network"
   ]
  },
  {
   "cell_type": "markdown",
   "metadata": {},
   "source": [
    "I have this matrix. I could keep asking the most similar group for each coultural group. but I better create some graphic representation. The matrix is pefect to create a netwok model. I will considere:\n",
    "\n",
    "$ G = (V, E)$ , where V is the cultural group and E is the relation weight by its similarity .\n"
   ]
  },
  {
   "cell_type": "code",
   "execution_count": 54,
   "metadata": {},
   "outputs": [],
   "source": [
    "import networkx as nx\n",
    "\n",
    "G = nx.from_numpy_matrix(tt)"
   ]
  },
  {
   "cell_type": "code",
   "execution_count": 56,
   "metadata": {},
   "outputs": [],
   "source": [
    "#Add attributes to the network\n",
    "for i in G:\n",
    "    G.node[i]['Name'] = soc.pref_name_for_society[i]\n",
    "    G.node[i]['glottocode'] = soc.glottocode[i]\n",
    "    G.node[i]['Lat'] = float(soc.Lat[i])\n",
    "    G.node[i]['Long'] = float(soc.Long[i])"
   ]
  },
  {
   "cell_type": "code",
   "execution_count": 57,
   "metadata": {},
   "outputs": [],
   "source": [
    "# Export graph to other formats\n",
    "nx.write_gexf(G, \"cultures.gexf\")"
   ]
  },
  {
   "cell_type": "code",
   "execution_count": 58,
   "metadata": {},
   "outputs": [
    {
     "name": "stderr",
     "output_type": "stream",
     "text": [
      "C:\\Users\\Cami\\Anaconda2\\lib\\site-packages\\networkx\\drawing\\nx_pylab.py:522: MatplotlibDeprecationWarning: The is_string_like function was deprecated in version 2.1.\n",
      "  if not cb.is_string_like(edge_color) \\\n",
      "C:\\Users\\Cami\\Anaconda2\\lib\\site-packages\\networkx\\drawing\\nx_pylab.py:543: MatplotlibDeprecationWarning: The is_string_like function was deprecated in version 2.1.\n",
      "  if cb.is_string_like(edge_color) or len(edge_color) == 1:\n",
      "C:\\Users\\Cami\\Anaconda2\\lib\\site-packages\\networkx\\drawing\\nx_pylab.py:724: MatplotlibDeprecationWarning: The is_string_like function was deprecated in version 2.1.\n",
      "  if not cb.is_string_like(label):\n"
     ]
    },
    {
     "data": {
      "image/png": "[encoded data removed]",
      "text/plain": [
       "<Figure size 432x288 with 1 Axes>"
      ]
     },
     "metadata": {},
     "output_type": "display_data"
    }
   ],
   "source": [
    "elarge = [(u, v) for (u, v, d) in G.edges(data=True) if d['weight'] > 0.5]\n",
    "esmall = [(u, v) for (u, v, d) in G.edges(data=True) if d['weight'] <= 0.5]\n",
    "\n",
    "pos = nx.spring_layout(G)  # positions for all nodes\n",
    "\n",
    "# nodes\n",
    "nx.draw_networkx_nodes(G, pos, node_size=10)\n",
    "\n",
    "# edges\n",
    "nx.draw_networkx_edges(G, pos, edgelist=elarge,\n",
    "                       width=1)\n",
    "nx.draw_networkx_edges(G, pos, edgelist=esmall,width=0, alpha=0.01, edge_color='b', style='dashed')\n",
    "\n",
    "# labels\n",
    "nx.draw_networkx_labels(G, pos, font_size=5, font_family='sans-serif')\n",
    "\n",
    "plt.axis('off')\n",
    "plt.show()\n"
   ]
  },
  {
   "cell_type": "markdown",
   "metadata": {},
   "source": [
    "##### Stablish an edge threshold"
   ]
  },
  {
   "cell_type": "markdown",
   "metadata": {},
   "source": [
    "Of course, as I calculate similiarity among all cultures, all have some connection but I will prune all those relations aren't strong enough."
   ]
  },
  {
   "cell_type": "code",
   "execution_count": 55,
   "metadata": {},
   "outputs": [
    {
     "data": {
      "text/plain": [
       "(0.366103872900027, 0.3749224666345725)"
      ]
     },
     "execution_count": 55,
     "metadata": {},
     "output_type": "execute_result"
    }
   ],
   "source": [
    "#Calculate some metric to see similarity distribution, as reference\n",
    "np.median(tt), tt.mean()"
   ]
  },
  {
   "cell_type": "code",
   "execution_count": 59,
   "metadata": {},
   "outputs": [],
   "source": [
    "SG=nx.Graph( [ (u,v,d) for u,v,d in G.edges(data=True) if d ['weight']>0.6])"
   ]
  },
  {
   "cell_type": "code",
   "execution_count": 60,
   "metadata": {},
   "outputs": [],
   "source": [
    "for i in SG:\n",
    "    SG.node[i]['Name'] = soc.pref_name_for_society[i]\n",
    "    SG.node[i]['glottocode'] = soc.glottocode[i]\n",
    "    SG.node[i]['Lat'] = float(soc.Lat[i])\n",
    "    SG.node[i]['Long'] = float(soc.Long[i])\n",
    "nx.write_gexf(SG, \"cultures2.gexf\")"
   ]
  },
  {
   "cell_type": "code",
   "execution_count": 42,
   "metadata": {},
   "outputs": [
    {
     "name": "stderr",
     "output_type": "stream",
     "text": [
      "C:\\Users\\Cami\\Anaconda2\\lib\\site-packages\\networkx\\drawing\\nx_pylab.py:126: MatplotlibDeprecationWarning: pyplot.hold is deprecated.\n",
      "    Future behavior will be consistent with the long-time default:\n",
      "    plot commands add elements without first clearing the\n",
      "    Axes and/or Figure.\n",
      "  b = plt.ishold()\n",
      "C:\\Users\\Cami\\Anaconda2\\lib\\site-packages\\networkx\\drawing\\nx_pylab.py:138: MatplotlibDeprecationWarning: pyplot.hold is deprecated.\n",
      "    Future behavior will be consistent with the long-time default:\n",
      "    plot commands add elements without first clearing the\n",
      "    Axes and/or Figure.\n",
      "  plt.hold(b)\n",
      "C:\\Users\\Cami\\Anaconda2\\lib\\site-packages\\matplotlib\\__init__.py:911: MatplotlibDeprecationWarning: axes.hold is deprecated. Please remove it from your matplotlibrc and/or style files.\n",
      "  mplDeprecation)\n",
      "C:\\Users\\Cami\\Anaconda2\\lib\\site-packages\\matplotlib\\rcsetup.py:156: MatplotlibDeprecationWarning: axes.hold is deprecated, will be removed in 3.0\n",
      "  mplDeprecation)\n"
     ]
    },
    {
     "data": {
      "image/png": "[encoded data removed]",
      "text/plain": [
       "<Figure size 432x288 with 1 Axes>"
      ]
     },
     "metadata": {},
     "output_type": "display_data"
    },
    {
     "data": {
      "text/plain": [
       "<Figure size 1440x720 with 0 Axes>"
      ]
     },
     "metadata": {},
     "output_type": "display_data"
    }
   ],
   "source": [
    "nx.draw_spring(SG,node_size = 10)\n",
    "#plt.axis('off')\n",
    "plt.figure(figsize=(20,10))\n",
    "plt.show()"
   ]
  },
  {
   "cell_type": "markdown",
   "metadata": {},
   "source": [
    "Netwok relations are not too useful to identify patterns. Lets try other approach as clustering."
   ]
  },
  {
   "cell_type": "markdown",
   "metadata": {},
   "source": [
    "### Dimensionality reduction"
   ]
  },
  {
   "cell_type": "markdown",
   "metadata": {},
   "source": [
    "First I want to try dimesionality reduction to get graphical understanding.\n",
    "\n",
    "Let say we want to reduce all the complexity of our vectors with 467 dimensions and put them back into a map, let say back to two dimensions without losing to much information in the proccess.\n",
    "\n",
    "There is a number of techniques as PCA or tSNE to do this task. I will use tSNE for graphics and PCA for clustering.\n",
    "\n",
    "What dimensionality reductions techniques aim to produce is to measure variability among dimensions and capture the most important aspects of each of one, or even discard repeated variations (I mean multicollinearity... is not that simply). "
   ]
  },
  {
   "cell_type": "code",
   "execution_count": 106,
   "metadata": {},
   "outputs": [],
   "source": [
    "from sklearn.manifold import TSNE\n",
    "\n",
    "tsne = TSNE(n_components=2)\n",
    "X_tsne = tsne.fit_transform(t7)"
   ]
  },
  {
   "cell_type": "code",
   "execution_count": 161,
   "metadata": {},
   "outputs": [],
   "source": [
    "from sklearn.decomposition import PCA\n",
    "\n",
    "pca = PCA(n_components=2)\n",
    "Xpca = pca.fit_transform(t7)"
   ]
  },
  {
   "cell_type": "code",
   "execution_count": 162,
   "metadata": {},
   "outputs": [
    {
     "data": {
      "image/png": "[encoded data removed]",
      "text/plain": [
       "<Figure size 1080x720 with 1 Axes>"
      ]
     },
     "metadata": {},
     "output_type": "display_data"
    },
    {
     "data": {
      "text/plain": [
       "'\"\"\\nfor i, txt in enumerate(df[\\'group\\']):\\n    ax.annotate(txt, (df[\\'x\\'].iloc[i], df[\\'y\\'].iloc[i]))\\n'"
      ]
     },
     "execution_count": 162,
     "metadata": {},
     "output_type": "execute_result"
    }
   ],
   "source": [
    "df = pd.concat([pd.DataFrame(Xpca),\n",
    "                pd.Series(t7.index)],\n",
    "               axis=1)\n",
    "df.columns = ['x', 'y', 'group']\n",
    "\n",
    "\n",
    "fig = plt.figure(figsize=(15,10))\n",
    "ax = fig.add_subplot(1, 1, 1)\n",
    "ax.scatter(df['x'], df['y'])\n",
    "\n",
    "plt.show()\n",
    "\"\"\"\"\"\n",
    "for i, txt in enumerate(df['group']):\n",
    "    ax.annotate(txt, (df['x'].iloc[i], df['y'].iloc[i]))\n",
    "\"\"\"\"\""
   ]
  },
  {
   "cell_type": "code",
   "execution_count": 160,
   "metadata": {},
   "outputs": [
    {
     "data": {
      "text/plain": [
       "(1291L, 24L)"
      ]
     },
     "execution_count": 160,
     "metadata": {},
     "output_type": "execute_result"
    }
   ],
   "source": [
    "Xpca.shape"
   ]
  },
  {
   "cell_type": "markdown",
   "metadata": {},
   "source": [
    "### Make (unsupervised) clusters"
   ]
  },
  {
   "cell_type": "markdown",
   "metadata": {},
   "source": [
    "Now I am able to apply some clustering algorythms. This is make groups with out telling the algorythm anything besides (maybe) how many groups I supect I could find.\n",
    "\n",
    "I could try several and see graphicaly if the cluster makes any sense."
   ]
  },
  {
   "cell_type": "code",
   "execution_count": 188,
   "metadata": {},
   "outputs": [],
   "source": [
    "#hierarquical\n",
    "\n",
    "from sklearn.cluster import AgglomerativeClustering\n",
    "\n",
    "cluster = AgglomerativeClustering(n_clusters=170, affinity='euclidean', linkage='ward')  \n",
    "reducido = cluster.fit_predict(Xpca) \n",
    "completo = cluster.fit_predict(t7)"
   ]
  },
  {
   "cell_type": "code",
   "execution_count": 121,
   "metadata": {},
   "outputs": [
    {
     "data": {
      "text/plain": [
       "array([0, 1, 2], dtype=int64)"
      ]
     },
     "execution_count": 121,
     "metadata": {},
     "output_type": "execute_result"
    }
   ],
   "source": [
    "pd.Series(completo).unique()"
   ]
  },
  {
   "cell_type": "code",
   "execution_count": 122,
   "metadata": {},
   "outputs": [
    {
     "data": {
      "text/plain": [
       "(1291L,)"
      ]
     },
     "execution_count": 122,
     "metadata": {},
     "output_type": "execute_result"
    }
   ],
   "source": [
    "reducido.shape"
   ]
  },
  {
   "cell_type": "code",
   "execution_count": 164,
   "metadata": {},
   "outputs": [
    {
     "data": {
      "image/png": "[encoded data removed]",
      "text/plain": [
       "<Figure size 1080x504 with 1 Axes>"
      ]
     },
     "metadata": {},
     "output_type": "display_data"
    }
   ],
   "source": [
    "from scipy.cluster.hierarchy import dendrogram, linkage\n",
    "\n",
    "linkage_matrix = linkage(Xpca, 'ward', metric = 'euclidean')\n",
    "figure = plt.figure(figsize=(15, 7))\n",
    "dendrogram(\n",
    "    linkage_matrix,\n",
    "    color_threshold=0,\n",
    ")\n",
    "\n",
    "plt.title('Hierarchical Clustering Dendrogram (Ward)')\n",
    "plt.xlabel('sample index')\n",
    "plt.ylabel('distance')\n",
    "plt.tight_layout()\n",
    "plt.show()"
   ]
  },
  {
   "cell_type": "code",
   "execution_count": 165,
   "metadata": {},
   "outputs": [
    {
     "data": {
      "text/plain": [
       "array([  0,   1,   2, ..., 135,  25,  10], dtype=int64)"
      ]
     },
     "execution_count": 165,
     "metadata": {},
     "output_type": "execute_result"
    }
   ],
   "source": [
    "#DBSCAN\n",
    "\n",
    "from sklearn.cluster import DBSCAN\n",
    "\n",
    "clustering = DBSCAN(eps=3, min_samples=2).fit(Xpca)\n",
    "clustering.labels_\n",
    "#clustering \n",
    "#DBSCAN(algorithm='auto', eps=3, leaf_size=30, metric='euclidean',\n",
    "#    metric_params=None, min_samples=2, n_jobs=None, p=None)"
   ]
  },
  {
   "cell_type": "code",
   "execution_count": 114,
   "metadata": {},
   "outputs": [
    {
     "data": {
      "text/plain": [
       "array([ 0,  1,  2,  3,  4,  5,  6,  7,  8,  9, 10, 11, 12, 13, 14, 15, 16,\n",
       "       17, 18, 19, 20, 21, 22, 23, 24, 25, 26, 27, 28, 29, 30, 31, 32],\n",
       "      dtype=int64)"
      ]
     },
     "execution_count": 114,
     "metadata": {},
     "output_type": "execute_result"
    }
   ],
   "source": [
    "pd.Series(clustering.labels_).unique()"
   ]
  },
  {
   "cell_type": "code",
   "execution_count": 92,
   "metadata": {},
   "outputs": [
    {
     "data": {
      "text/plain": [
       "(1291L,)"
      ]
     },
     "execution_count": 92,
     "metadata": {},
     "output_type": "execute_result"
    }
   ],
   "source": [
    "clustering.labels_.shape"
   ]
  },
  {
   "cell_type": "code",
   "execution_count": 175,
   "metadata": {},
   "outputs": [],
   "source": [
    "from sklearn.cluster import KMeans\n",
    "\n",
    "kmeans = KMeans(n_clusters=5, random_state=0).fit(Xpca)"
   ]
  },
  {
   "cell_type": "code",
   "execution_count": 176,
   "metadata": {},
   "outputs": [],
   "source": [
    "from sklearn.mixture import GaussianMixture\n",
    "\n",
    "gm = GaussianMixture(n_components = 5).fit(Xpca)\n",
    "gmp = gm.predict(X_tsne)"
   ]
  },
  {
   "cell_type": "code",
   "execution_count": 189,
   "metadata": {},
   "outputs": [],
   "source": [
    "t7['DBcluster'] = clustering.labels_\n",
    "t7['HCR'] = reducido\n",
    "t7['HCC'] = completo\n",
    "t7['kmean'] = kmeans.labels_\n",
    "t7['gm'] = gmp\n",
    "t7['x'] = Xpca[:,0]\n",
    "t7['y'] = Xpca[:,1]"
   ]
  },
  {
   "cell_type": "markdown",
   "metadata": {},
   "source": [
    "## Compare with geografical and linguistic data"
   ]
  },
  {
   "cell_type": "markdown",
   "metadata": {},
   "source": [
    "Let say we have a model. It will be nice to have some validation of it by comparing it with some other classifications not related with the data (I do not want contamination of my model). One possibility is to see language classification fo groups.\n",
    "\n",
    "Lets load the glottolog database (glottolog.org) from Max Planck Institute."
   ]
  },
  {
   "cell_type": "code",
   "execution_count": 77,
   "metadata": {},
   "outputs": [],
   "source": [
    "lang = pd.read_csv('languoid.csv')"
   ]
  },
  {
   "cell_type": "code",
   "execution_count": 78,
   "metadata": {},
   "outputs": [
    {
     "data": {
      "text/html": [
       "<div>\n",
       "<style scoped>\n",
       "    .dataframe tbody tr th:only-of-type {\n",
       "        vertical-align: middle;\n",
       "    }\n",
       "\n",
       "    .dataframe tbody tr th {\n",
       "        vertical-align: top;\n",
       "    }\n",
       "\n",
       "    .dataframe thead th {\n",
       "        text-align: right;\n",
       "    }\n",
       "</style>\n",
       "<table border=\"1\" class=\"dataframe\">\n",
       "  <thead>\n",
       "    <tr style=\"text-align: right;\">\n",
       "      <th></th>\n",
       "      <th>id</th>\n",
       "      <th>family_id</th>\n",
       "      <th>parent_id</th>\n",
       "      <th>name</th>\n",
       "      <th>bookkeeping</th>\n",
       "      <th>level</th>\n",
       "      <th>status</th>\n",
       "      <th>latitude</th>\n",
       "      <th>longitude</th>\n",
       "      <th>iso639P3code</th>\n",
       "      <th>description</th>\n",
       "      <th>markup_description</th>\n",
       "      <th>child_family_count</th>\n",
       "      <th>child_language_count</th>\n",
       "      <th>child_dialect_count</th>\n",
       "      <th>country_ids</th>\n",
       "    </tr>\n",
       "  </thead>\n",
       "  <tbody>\n",
       "    <tr>\n",
       "      <th>0</th>\n",
       "      <td>aala1237</td>\n",
       "      <td>aust1307</td>\n",
       "      <td>ramo1244</td>\n",
       "      <td>Aalawa</td>\n",
       "      <td>False</td>\n",
       "      <td>dialect</td>\n",
       "      <td>safe</td>\n",
       "      <td>NaN</td>\n",
       "      <td>NaN</td>\n",
       "      <td>NaN</td>\n",
       "      <td>NaN</td>\n",
       "      <td>NaN</td>\n",
       "      <td>0</td>\n",
       "      <td>0</td>\n",
       "      <td>0</td>\n",
       "      <td>NaN</td>\n",
       "    </tr>\n",
       "    <tr>\n",
       "      <th>1</th>\n",
       "      <td>aant1238</td>\n",
       "      <td>nucl1709</td>\n",
       "      <td>nort2920</td>\n",
       "      <td>Aantantara</td>\n",
       "      <td>False</td>\n",
       "      <td>dialect</td>\n",
       "      <td>safe</td>\n",
       "      <td>NaN</td>\n",
       "      <td>NaN</td>\n",
       "      <td>NaN</td>\n",
       "      <td>NaN</td>\n",
       "      <td>NaN</td>\n",
       "      <td>0</td>\n",
       "      <td>0</td>\n",
       "      <td>0</td>\n",
       "      <td>NaN</td>\n",
       "    </tr>\n",
       "    <tr>\n",
       "      <th>2</th>\n",
       "      <td>aari1238</td>\n",
       "      <td>sout2845</td>\n",
       "      <td>ahkk1235</td>\n",
       "      <td>Aari-Gayil</td>\n",
       "      <td>False</td>\n",
       "      <td>family</td>\n",
       "      <td>safe</td>\n",
       "      <td>NaN</td>\n",
       "      <td>NaN</td>\n",
       "      <td>aiz</td>\n",
       "      <td>NaN</td>\n",
       "      <td>NaN</td>\n",
       "      <td>0</td>\n",
       "      <td>2</td>\n",
       "      <td>0</td>\n",
       "      <td>NaN</td>\n",
       "    </tr>\n",
       "    <tr>\n",
       "      <th>3</th>\n",
       "      <td>aari1239</td>\n",
       "      <td>sout2845</td>\n",
       "      <td>aari1238</td>\n",
       "      <td>Aari</td>\n",
       "      <td>False</td>\n",
       "      <td>language</td>\n",
       "      <td>safe</td>\n",
       "      <td>5.95034</td>\n",
       "      <td>36.5721</td>\n",
       "      <td>aiw</td>\n",
       "      <td>NaN</td>\n",
       "      <td>NaN</td>\n",
       "      <td>0</td>\n",
       "      <td>0</td>\n",
       "      <td>0</td>\n",
       "      <td>ET</td>\n",
       "    </tr>\n",
       "    <tr>\n",
       "      <th>4</th>\n",
       "      <td>aari1240</td>\n",
       "      <td>book1242</td>\n",
       "      <td>book1242</td>\n",
       "      <td>Aariya</td>\n",
       "      <td>True</td>\n",
       "      <td>language</td>\n",
       "      <td>safe</td>\n",
       "      <td>NaN</td>\n",
       "      <td>NaN</td>\n",
       "      <td>aay</td>\n",
       "      <td>NaN</td>\n",
       "      <td>NaN</td>\n",
       "      <td>0</td>\n",
       "      <td>0</td>\n",
       "      <td>0</td>\n",
       "      <td>IN</td>\n",
       "    </tr>\n",
       "  </tbody>\n",
       "</table>\n",
       "</div>"
      ],
      "text/plain": [
       "         id family_id parent_id        name  bookkeeping     level status  \\\n",
       "0  aala1237  aust1307  ramo1244      Aalawa        False   dialect   safe   \n",
       "1  aant1238  nucl1709  nort2920  Aantantara        False   dialect   safe   \n",
       "2  aari1238  sout2845  ahkk1235  Aari-Gayil        False    family   safe   \n",
       "3  aari1239  sout2845  aari1238        Aari        False  language   safe   \n",
       "4  aari1240  book1242  book1242      Aariya         True  language   safe   \n",
       "\n",
       "   latitude  longitude iso639P3code  description  markup_description  \\\n",
       "0       NaN        NaN          NaN          NaN                 NaN   \n",
       "1       NaN        NaN          NaN          NaN                 NaN   \n",
       "2       NaN        NaN          aiz          NaN                 NaN   \n",
       "3   5.95034    36.5721          aiw          NaN                 NaN   \n",
       "4       NaN        NaN          aay          NaN                 NaN   \n",
       "\n",
       "   child_family_count  child_language_count  child_dialect_count country_ids  \n",
       "0                   0                     0                    0         NaN  \n",
       "1                   0                     0                    0         NaN  \n",
       "2                   0                     2                    0         NaN  \n",
       "3                   0                     0                    0          ET  \n",
       "4                   0                     0                    0          IN  "
      ]
     },
     "execution_count": 78,
     "metadata": {},
     "output_type": "execute_result"
    }
   ],
   "source": [
    "lang.head()"
   ]
  },
  {
   "cell_type": "code",
   "execution_count": 79,
   "metadata": {},
   "outputs": [
    {
     "data": {
      "text/plain": [
       "(23740, 16)"
      ]
     },
     "execution_count": 79,
     "metadata": {},
     "output_type": "execute_result"
    }
   ],
   "source": [
    "lang.shape"
   ]
  },
  {
   "cell_type": "code",
   "execution_count": 80,
   "metadata": {},
   "outputs": [
    {
     "data": {
      "text/plain": [
       "dialect     10920\n",
       "language     8481\n",
       "family       4339\n",
       "Name: level, dtype: int64"
      ]
     },
     "execution_count": 80,
     "metadata": {},
     "output_type": "execute_result"
    }
   ],
   "source": [
    "lang.level.value_counts()"
   ]
  },
  {
   "cell_type": "code",
   "execution_count": 190,
   "metadata": {},
   "outputs": [
    {
     "name": "stderr",
     "output_type": "stream",
     "text": [
      "C:\\Users\\Cami\\Anaconda2\\lib\\site-packages\\ipykernel_launcher.py:4: SettingWithCopyWarning: \n",
      "A value is trying to be set on a copy of a slice from a DataFrame\n",
      "\n",
      "See the caveats in the documentation: http://pandas.pydata.org/pandas-docs/stable/indexing.html#indexing-view-versus-copy\n",
      "  after removing the cwd from sys.path.\n"
     ]
    }
   ],
   "source": [
    "#mix the dataset with language information\n",
    "t8 = t7.merge(soc2, left_index = True, right_on = 'pref_name_for_society')\n",
    "t8 = t8.merge(lang, left_on = 'glottocode', right_on = 'id')\n",
    "t8['family_id'][t8.family_id.isnull()] = t8['glottocode'][t8.family_id.isnull()]"
   ]
  },
  {
   "cell_type": "code",
   "execution_count": 191,
   "metadata": {},
   "outputs": [
    {
     "data": {
      "text/plain": [
       "'Number of language families in group culture dataset: 173'"
      ]
     },
     "execution_count": 191,
     "metadata": {},
     "output_type": "execute_result"
    }
   ],
   "source": [
    "'Number of language families in group culture dataset: {0}'.format(len(t8.family_id.unique()))"
   ]
  },
  {
   "cell_type": "code",
   "execution_count": 180,
   "metadata": {},
   "outputs": [
    {
     "data": {
      "text/html": [
       "<div>\n",
       "<style scoped>\n",
       "    .dataframe tbody tr th:only-of-type {\n",
       "        vertical-align: middle;\n",
       "    }\n",
       "\n",
       "    .dataframe tbody tr th {\n",
       "        vertical-align: top;\n",
       "    }\n",
       "\n",
       "    .dataframe thead th {\n",
       "        text-align: right;\n",
       "    }\n",
       "</style>\n",
       "<table border=\"1\" class=\"dataframe\">\n",
       "  <thead>\n",
       "    <tr style=\"text-align: right;\">\n",
       "      <th></th>\n",
       "      <th>id</th>\n",
       "      <th>family_id</th>\n",
       "      <th>parent_id</th>\n",
       "      <th>name</th>\n",
       "      <th>bookkeeping</th>\n",
       "      <th>level</th>\n",
       "      <th>status</th>\n",
       "      <th>latitude</th>\n",
       "      <th>longitude</th>\n",
       "      <th>iso639P3code</th>\n",
       "      <th>description</th>\n",
       "      <th>markup_description</th>\n",
       "      <th>child_family_count</th>\n",
       "      <th>child_language_count</th>\n",
       "      <th>child_dialect_count</th>\n",
       "      <th>country_ids</th>\n",
       "    </tr>\n",
       "  </thead>\n",
       "  <tbody>\n",
       "    <tr>\n",
       "      <th>469</th>\n",
       "      <td>alse1251</td>\n",
       "      <td>NaN</td>\n",
       "      <td>NaN</td>\n",
       "      <td>Alsea-Yaquina</td>\n",
       "      <td>False</td>\n",
       "      <td>language</td>\n",
       "      <td>extinct</td>\n",
       "      <td>44.408</td>\n",
       "      <td>-123.94</td>\n",
       "      <td>aes</td>\n",
       "      <td>NaN</td>\n",
       "      <td>NaN</td>\n",
       "      <td>0</td>\n",
       "      <td>0</td>\n",
       "      <td>2</td>\n",
       "      <td>US</td>\n",
       "    </tr>\n",
       "  </tbody>\n",
       "</table>\n",
       "</div>"
      ],
      "text/plain": [
       "           id family_id parent_id           name  bookkeeping     level  \\\n",
       "469  alse1251       NaN       NaN  Alsea-Yaquina        False  language   \n",
       "\n",
       "      status  latitude  longitude iso639P3code  description  \\\n",
       "469  extinct    44.408    -123.94          aes          NaN   \n",
       "\n",
       "     markup_description  child_family_count  child_language_count  \\\n",
       "469                 NaN                   0                     0   \n",
       "\n",
       "     child_dialect_count country_ids  \n",
       "469                    2          US  "
      ]
     },
     "execution_count": 180,
     "metadata": {},
     "output_type": "execute_result"
    }
   ],
   "source": [
    "lang[lang.id == 'alse1251']"
   ]
  },
  {
   "cell_type": "code",
   "execution_count": 192,
   "metadata": {},
   "outputs": [],
   "source": [
    "#transform language families into numeric values to plot\n",
    "from sklearn.preprocessing import LabelEncoder\n",
    "\n",
    "l = LabelEncoder()\n",
    "t8['lang'] = l.fit_transform(t8.family_id)"
   ]
  },
  {
   "cell_type": "code",
   "execution_count": 193,
   "metadata": {},
   "outputs": [
    {
     "data": {
      "text/plain": [
       "Text(0.5,1,'GaussianMix')"
      ]
     },
     "execution_count": 193,
     "metadata": {},
     "output_type": "execute_result"
    },
    {
     "data": {
      "image/png": "[encoded data removed]",
      "text/plain": [
       "<Figure size 1296x1800 with 6 Axes>"
      ]
     },
     "metadata": {},
     "output_type": "display_data"
    }
   ],
   "source": [
    "#build dataset to \n",
    "\"\"\"\"\"\n",
    "df = pd.concat([pd.DataFrame(X_tsne),\n",
    "                pd.Series(l2), pd.Series(t8.DBcluster),\n",
    "               pd.Series(t8.HCR),pd.Series(t8.HCC),\n",
    "               pd.Series(t8.kmean), pd.Series(t8.gm)],\n",
    "               axis=1)\n",
    "df.columns = ['x', 'y','lang','DB','HCR','HCC','kmean','gm']\n",
    "\"\"\"\"\"\n",
    "f, ((ax1, ax2), (ax3, ax4), (ax5, ax6)) = plt.subplots(3, 2, sharex='col', sharey='row', figsize =(18,25))\n",
    "ax1.scatter(t8['x'], t8['y'], c=t8['lang'], cmap='hsv')\n",
    "ax1.set_title('Languages')\n",
    "ax2.scatter(t8['x'], t8['y'], c=t8['DBcluster'], cmap='hsv')\n",
    "ax2.set_title('DB Cluster')\n",
    "ax3.scatter(t8['x'], t8['y'], c=t8['HCR'], cmap='hsv')\n",
    "ax3.set_title('Hierarchical Cluster R')\n",
    "ax4.scatter(t8['x'], t8['y'], c=t8['HCC'], cmap='hsv')\n",
    "ax4.set_title('Hierarchical Cluster C')\n",
    "ax5.scatter(t8['x'], t8['y'], c=t8['kmean'], cmap='hsv')\n",
    "ax5.set_title('K-means')\n",
    "ax6.scatter(t8['x'], t8['y'], c=t8['gm'], cmap='hsv')\n",
    "ax6.set_title('GaussianMix')\n"
   ]
  },
  {
   "cell_type": "code",
   "execution_count": 118,
   "metadata": {},
   "outputs": [],
   "source": [
    "#turn language databese into a tree\n",
    "from collections import defaultdict\n",
    "\n",
    "d = defaultdict(lambda: defaultdict(list))\n",
    "\n",
    "for row in lang.itertuples():\n",
    "    d[row[1]][row[2]].append(row[3])"
   ]
  },
  {
   "cell_type": "code",
   "execution_count": 128,
   "metadata": {},
   "outputs": [],
   "source": [
    "from networkx.readwrite import json_graph\n",
    "L = nx.DiGraph([(1,2)])\n",
    "data = json_graph.tree_data(L,root=1)\n",
    "H = json_graph.tree_graph(data)"
   ]
  },
  {
   "cell_type": "code",
   "execution_count": 129,
   "metadata": {},
   "outputs": [
    {
     "name": "stderr",
     "output_type": "stream",
     "text": [
      "C:\\Users\\Cami\\Anaconda2\\lib\\site-packages\\networkx\\drawing\\nx_pylab.py:136: MatplotlibDeprecationWarning: pyplot.hold is deprecated.\n",
      "    Future behavior will be consistent with the long-time default:\n",
      "    plot commands add elements without first clearing the\n",
      "    Axes and/or Figure.\n",
      "  plt.hold(b)\n"
     ]
    },
    {
     "ename": "MemoryError",
     "evalue": "",
     "output_type": "error",
     "traceback": [
      "\u001b[1;31m---------------------------------------------------------------------------\u001b[0m",
      "\u001b[1;31mMemoryError\u001b[0m                               Traceback (most recent call last)",
      "\u001b[1;32m<ipython-input-129-4c708e55f058>\u001b[0m in \u001b[0;36m<module>\u001b[1;34m()\u001b[0m\n\u001b[0;32m     18\u001b[0m \u001b[1;33m\u001b[0m\u001b[0m\n\u001b[0;32m     19\u001b[0m \u001b[0mnp\u001b[0m\u001b[1;33m.\u001b[0m\u001b[0mrandom\u001b[0m\u001b[1;33m.\u001b[0m\u001b[0mseed\u001b[0m\u001b[1;33m(\u001b[0m\u001b[1;36m8\u001b[0m\u001b[1;33m)\u001b[0m\u001b[1;33m\u001b[0m\u001b[0m\n\u001b[1;32m---> 20\u001b[1;33m \u001b[0mnx\u001b[0m\u001b[1;33m.\u001b[0m\u001b[0mdraw\u001b[0m\u001b[1;33m(\u001b[0m\u001b[0mG\u001b[0m\u001b[1;33m,\u001b[0m \u001b[0mwith_labels\u001b[0m\u001b[1;33m=\u001b[0m\u001b[0mTrue\u001b[0m\u001b[1;33m)\u001b[0m\u001b[1;33m\u001b[0m\u001b[0m\n\u001b[0m",
      "\u001b[1;32mC:\\Users\\Cami\\Anaconda2\\lib\\site-packages\\networkx\\drawing\\nx_pylab.pyc\u001b[0m in \u001b[0;36mdraw\u001b[1;34m(G, pos, ax, hold, **kwds)\u001b[0m\n\u001b[0;32m    130\u001b[0m         \u001b[0mplt\u001b[0m\u001b[1;33m.\u001b[0m\u001b[0mhold\u001b[0m\u001b[1;33m(\u001b[0m\u001b[0mh\u001b[0m\u001b[1;33m)\u001b[0m\u001b[1;33m\u001b[0m\u001b[0m\n\u001b[0;32m    131\u001b[0m     \u001b[1;32mtry\u001b[0m\u001b[1;33m:\u001b[0m\u001b[1;33m\u001b[0m\u001b[0m\n\u001b[1;32m--> 132\u001b[1;33m         \u001b[0mdraw_networkx\u001b[0m\u001b[1;33m(\u001b[0m\u001b[0mG\u001b[0m\u001b[1;33m,\u001b[0m \u001b[0mpos\u001b[0m\u001b[1;33m=\u001b[0m\u001b[0mpos\u001b[0m\u001b[1;33m,\u001b[0m \u001b[0max\u001b[0m\u001b[1;33m=\u001b[0m\u001b[0max\u001b[0m\u001b[1;33m,\u001b[0m \u001b[1;33m**\u001b[0m\u001b[0mkwds\u001b[0m\u001b[1;33m)\u001b[0m\u001b[1;33m\u001b[0m\u001b[0m\n\u001b[0m\u001b[0;32m    133\u001b[0m         \u001b[0max\u001b[0m\u001b[1;33m.\u001b[0m\u001b[0mset_axis_off\u001b[0m\u001b[1;33m(\u001b[0m\u001b[1;33m)\u001b[0m\u001b[1;33m\u001b[0m\u001b[0m\n\u001b[0;32m    134\u001b[0m         \u001b[0mplt\u001b[0m\u001b[1;33m.\u001b[0m\u001b[0mdraw_if_interactive\u001b[0m\u001b[1;33m(\u001b[0m\u001b[1;33m)\u001b[0m\u001b[1;33m\u001b[0m\u001b[0m\n",
      "\u001b[1;32mC:\\Users\\Cami\\Anaconda2\\lib\\site-packages\\networkx\\drawing\\nx_pylab.pyc\u001b[0m in \u001b[0;36mdraw_networkx\u001b[1;34m(G, pos, arrows, with_labels, **kwds)\u001b[0m\n\u001b[0;32m    271\u001b[0m \u001b[1;33m\u001b[0m\u001b[0m\n\u001b[0;32m    272\u001b[0m     \u001b[1;32mif\u001b[0m \u001b[0mpos\u001b[0m \u001b[1;32mis\u001b[0m \u001b[0mNone\u001b[0m\u001b[1;33m:\u001b[0m\u001b[1;33m\u001b[0m\u001b[0m\n\u001b[1;32m--> 273\u001b[1;33m         \u001b[0mpos\u001b[0m \u001b[1;33m=\u001b[0m \u001b[0mnx\u001b[0m\u001b[1;33m.\u001b[0m\u001b[0mdrawing\u001b[0m\u001b[1;33m.\u001b[0m\u001b[0mspring_layout\u001b[0m\u001b[1;33m(\u001b[0m\u001b[0mG\u001b[0m\u001b[1;33m)\u001b[0m  \u001b[1;31m# default to spring layout\u001b[0m\u001b[1;33m\u001b[0m\u001b[0m\n\u001b[0m\u001b[0;32m    274\u001b[0m \u001b[1;33m\u001b[0m\u001b[0m\n\u001b[0;32m    275\u001b[0m     \u001b[0mnode_collection\u001b[0m \u001b[1;33m=\u001b[0m \u001b[0mdraw_networkx_nodes\u001b[0m\u001b[1;33m(\u001b[0m\u001b[0mG\u001b[0m\u001b[1;33m,\u001b[0m \u001b[0mpos\u001b[0m\u001b[1;33m,\u001b[0m \u001b[1;33m**\u001b[0m\u001b[0mkwds\u001b[0m\u001b[1;33m)\u001b[0m\u001b[1;33m\u001b[0m\u001b[0m\n",
      "\u001b[1;32mC:\\Users\\Cami\\Anaconda2\\lib\\site-packages\\networkx\\drawing\\layout.pyc\u001b[0m in \u001b[0;36mfruchterman_reingold_layout\u001b[1;34m(G, dim, k, pos, fixed, iterations, weight, scale, center)\u001b[0m\n\u001b[0;32m    286\u001b[0m     \u001b[1;32mexcept\u001b[0m\u001b[1;33m:\u001b[0m\u001b[1;33m\u001b[0m\u001b[0m\n\u001b[0;32m    287\u001b[0m         \u001b[0mA\u001b[0m \u001b[1;33m=\u001b[0m \u001b[0mnx\u001b[0m\u001b[1;33m.\u001b[0m\u001b[0mto_numpy_matrix\u001b[0m\u001b[1;33m(\u001b[0m\u001b[0mG\u001b[0m\u001b[1;33m,\u001b[0m \u001b[0mweight\u001b[0m\u001b[1;33m=\u001b[0m\u001b[0mweight\u001b[0m\u001b[1;33m)\u001b[0m\u001b[1;33m\u001b[0m\u001b[0m\n\u001b[1;32m--> 288\u001b[1;33m         \u001b[0mpos\u001b[0m \u001b[1;33m=\u001b[0m \u001b[0m_fruchterman_reingold\u001b[0m\u001b[1;33m(\u001b[0m\u001b[0mA\u001b[0m\u001b[1;33m,\u001b[0m \u001b[0mdim\u001b[0m\u001b[1;33m,\u001b[0m \u001b[0mk\u001b[0m\u001b[1;33m,\u001b[0m \u001b[0mpos_arr\u001b[0m\u001b[1;33m,\u001b[0m \u001b[0mfixed\u001b[0m\u001b[1;33m,\u001b[0m \u001b[0miterations\u001b[0m\u001b[1;33m)\u001b[0m\u001b[1;33m\u001b[0m\u001b[0m\n\u001b[0m\u001b[0;32m    289\u001b[0m \u001b[1;33m\u001b[0m\u001b[0m\n\u001b[0;32m    290\u001b[0m     \u001b[1;32mif\u001b[0m \u001b[0mfixed\u001b[0m \u001b[1;32mis\u001b[0m \u001b[0mNone\u001b[0m\u001b[1;33m:\u001b[0m\u001b[1;33m\u001b[0m\u001b[0m\n",
      "\u001b[1;32mC:\\Users\\Cami\\Anaconda2\\lib\\site-packages\\networkx\\drawing\\layout.pyc\u001b[0m in \u001b[0;36m_fruchterman_reingold\u001b[1;34m(A, dim, k, pos, fixed, iterations)\u001b[0m\n\u001b[0;32m    326\u001b[0m     \u001b[1;31m# linearly step down by dt on each iteration so last iteration is size dt.\u001b[0m\u001b[1;33m\u001b[0m\u001b[1;33m\u001b[0m\u001b[0m\n\u001b[0;32m    327\u001b[0m     \u001b[0mdt\u001b[0m\u001b[1;33m=\u001b[0m\u001b[0mt\u001b[0m\u001b[1;33m/\u001b[0m\u001b[0mfloat\u001b[0m\u001b[1;33m(\u001b[0m\u001b[0miterations\u001b[0m\u001b[1;33m+\u001b[0m\u001b[1;36m1\u001b[0m\u001b[1;33m)\u001b[0m\u001b[1;33m\u001b[0m\u001b[0m\n\u001b[1;32m--> 328\u001b[1;33m     \u001b[0mdelta\u001b[0m \u001b[1;33m=\u001b[0m \u001b[0mnp\u001b[0m\u001b[1;33m.\u001b[0m\u001b[0mzeros\u001b[0m\u001b[1;33m(\u001b[0m\u001b[1;33m(\u001b[0m\u001b[0mpos\u001b[0m\u001b[1;33m.\u001b[0m\u001b[0mshape\u001b[0m\u001b[1;33m[\u001b[0m\u001b[1;36m0\u001b[0m\u001b[1;33m]\u001b[0m\u001b[1;33m,\u001b[0m\u001b[0mpos\u001b[0m\u001b[1;33m.\u001b[0m\u001b[0mshape\u001b[0m\u001b[1;33m[\u001b[0m\u001b[1;36m0\u001b[0m\u001b[1;33m]\u001b[0m\u001b[1;33m,\u001b[0m\u001b[0mpos\u001b[0m\u001b[1;33m.\u001b[0m\u001b[0mshape\u001b[0m\u001b[1;33m[\u001b[0m\u001b[1;36m1\u001b[0m\u001b[1;33m]\u001b[0m\u001b[1;33m)\u001b[0m\u001b[1;33m,\u001b[0m\u001b[0mdtype\u001b[0m\u001b[1;33m=\u001b[0m\u001b[0mA\u001b[0m\u001b[1;33m.\u001b[0m\u001b[0mdtype\u001b[0m\u001b[1;33m)\u001b[0m\u001b[1;33m\u001b[0m\u001b[0m\n\u001b[0m\u001b[0;32m    329\u001b[0m     \u001b[1;31m# the inscrutable (but fast) version\u001b[0m\u001b[1;33m\u001b[0m\u001b[1;33m\u001b[0m\u001b[0m\n\u001b[0;32m    330\u001b[0m     \u001b[1;31m# this is still O(V^2)\u001b[0m\u001b[1;33m\u001b[0m\u001b[1;33m\u001b[0m\u001b[0m\n",
      "\u001b[1;31mMemoryError\u001b[0m: "
     ]
    },
    {
     "data": {
      "image/png": "[encoded data removed]",
      "text/plain": [
       "<Figure size 432x288 with 1 Axes>"
      ]
     },
     "metadata": {},
     "output_type": "display_data"
    }
   ],
   "source": [
    "from collections import *\n",
    "G = nx.DiGraph()\n",
    "\n",
    "# Helper functions\n",
    "is_dict = lambda x: type(x) in {dict, OrderedDict, defaultdict}\n",
    "\n",
    "# Iterate through the layers\n",
    "for root, level_0 in d.items():\n",
    "    if len(level_0) > 0:\n",
    "        for level_0_node, level_1 in level_0.items():\n",
    "            G.add_edge(root, level_0_node)\n",
    "            if is_dict(level_1):\n",
    "                for level_1_node, level_2 in level_1.items():\n",
    "                    G.add_edge(level_0_node, level_1_node)\n",
    "                    if is_dict(level_2):\n",
    "                        for level_2_node, level_3 in level_2.items():\n",
    "                            G.add_edge(level_1_node, level_2_node)\n",
    "\n",
    "np.random.seed(8)\n",
    "nx.draw(G, with_labels=True)"
   ]
  },
  {
   "cell_type": "markdown",
   "metadata": {},
   "source": [
    "## Conclusion\n",
    "Languages do not get well represented in tsne space, but clustering algorythms doesn't capure either the groups."
   ]
  }
 ],
 "metadata": {
  "kernelspec": {
   "display_name": "Python 2",
   "language": "python",
   "name": "python2"
  },
  "language_info": {
   "codemirror_mode": {
    "name": "ipython",
    "version": 2
   },
   "file_extension": ".py",
   "mimetype": "text/x-python",
   "name": "python",
   "nbconvert_exporter": "python",
   "pygments_lexer": "ipython2",
   "version": "2.7.13"
  }
 },
 "nbformat": 4,
 "nbformat_minor": 2
}
